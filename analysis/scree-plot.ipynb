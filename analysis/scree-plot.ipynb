{
 "cells": [
  {
   "cell_type": "code",
   "execution_count": 2,
   "metadata": {
    "collapsed": true
   },
   "outputs": [],
   "source": [
    "import numpy as np\n",
    "import pandas as pd\n",
    "from sklearn.ensemble import RandomForestRegressor\n",
    "from sklearn.random_projection import GaussianRandomProjection\n",
    "from sklearn.random_projection import SparseRandomProjection\n",
    "from sklearn.decomposition import PCA, FastICA\n",
    "from sklearn.decomposition import TruncatedSVD\n",
    "import matplotlib.pyplot as plt\n",
    "import matplotlib\n",
    "%matplotlib inline"
   ]
  },
  {
   "cell_type": "code",
   "execution_count": 3,
   "metadata": {},
   "outputs": [
    {
     "name": "stdout",
     "output_type": "stream",
     "text": [
      "Shape train: (4209, 378)\n",
      "Shape test: (4209, 377)\n"
     ]
    }
   ],
   "source": [
    "from sklearn.preprocessing import LabelEncoder\n",
    "train = pd.read_csv(\"mertrain.csv\")\n",
    "test = pd.read_csv(\"mertest.csv\")\n",
    "\n",
    "# process columns, apply LabelEncoder to categorical features\n",
    "for c in train.columns:\n",
    "    if train[c].dtype == 'object':\n",
    "        lbl = LabelEncoder() \n",
    "        lbl.fit(list(train[c].values) + list(test[c].values)) \n",
    "        train[c] = lbl.transform(list(train[c].values))\n",
    "        test[c] = lbl.transform(list(test[c].values))\n",
    "\n",
    "# shape        \n",
    "print('Shape train: {}\\nShape test: {}'.format(train.shape, test.shape))"
   ]
  },
  {
   "cell_type": "code",
   "execution_count": 4,
   "metadata": {
    "collapsed": true
   },
   "outputs": [],
   "source": [
    "n_comp = 10\n",
    "pca = PCA(n_components=n_comp, random_state=420)\n",
    "pca2_results_train = pca.fit_transform(train.drop([\"y\"], axis=1))\n",
    "pca2_results_test = pca.transform(test)"
   ]
  },
  {
   "cell_type": "code",
   "execution_count": 5,
   "metadata": {
    "collapsed": true
   },
   "outputs": [],
   "source": [
    "U, S, V = np.linalg.svd(train.drop(['y'],axis=1))\n",
    "eigvals = S**2/np.cumsum(S)[-1]\n",
    "\n",
    "eigvals2 = S**2 \n"
   ]
  },
  {
   "cell_type": "code",
   "execution_count": 6,
   "metadata": {
    "scrolled": true
   },
   "outputs": [
    {
     "data": {
      "text/plain": [
       "319444.85539133911"
      ]
     },
     "execution_count": 6,
     "metadata": {},
     "output_type": "execute_result"
    }
   ],
   "source": [
    "sum(list(S)[:6])"
   ]
  },
  {
   "cell_type": "code",
   "execution_count": 7,
   "metadata": {},
   "outputs": [
    {
     "data": {
      "text/plain": [
       "array([  3.15386340e+05,   1.67182196e+03,   8.94536298e+02,\n",
       "         5.83115714e+02,   4.71499194e+02,   4.37542386e+02,\n",
       "         2.14016499e+02,   1.33847204e+02,   1.09335216e+02,\n",
       "         9.27303942e+01,   7.93106365e+01,   7.29010049e+01,\n",
       "         7.08146224e+01,   6.58310475e+01,   5.85132895e+01,\n",
       "         5.56561657e+01,   5.11311068e+01,   4.64848414e+01,\n",
       "         4.50278378e+01,   4.29246723e+01,   4.14768486e+01,\n",
       "         3.97130479e+01,   3.75175744e+01,   3.66303513e+01,\n",
       "         3.50651433e+01,   3.30229846e+01,   3.24285449e+01,\n",
       "         3.10377069e+01,   3.01757049e+01,   2.90704754e+01,\n",
       "         2.87191518e+01,   2.82157377e+01,   2.72045051e+01,\n",
       "         2.64024764e+01,   2.54413966e+01,   2.51715645e+01,\n",
       "         2.43907138e+01,   2.35660644e+01,   2.22649346e+01,\n",
       "         2.17886023e+01,   2.15050705e+01,   2.09513082e+01,\n",
       "         2.04193810e+01,   1.99266007e+01,   1.98428360e+01,\n",
       "         1.97539611e+01,   1.93834330e+01,   1.85012605e+01,\n",
       "         1.82256170e+01,   1.79340808e+01,   1.76051548e+01,\n",
       "         1.75461513e+01,   1.72202055e+01,   1.69607266e+01,\n",
       "         1.67344742e+01,   1.62529957e+01,   1.58662582e+01,\n",
       "         1.55272802e+01,   1.54481125e+01,   1.51430793e+01,\n",
       "         1.50512819e+01,   1.47904187e+01,   1.43861632e+01,\n",
       "         1.42322709e+01,   1.39490349e+01,   1.38619096e+01,\n",
       "         1.33405761e+01,   1.31710240e+01,   1.30463289e+01,\n",
       "         1.29442364e+01,   1.25860251e+01,   1.24243512e+01,\n",
       "         1.22405336e+01,   1.21269192e+01,   1.19320371e+01,\n",
       "         1.17526319e+01,   1.16463077e+01,   1.13957064e+01,\n",
       "         1.13056254e+01,   1.12321974e+01,   1.10980308e+01,\n",
       "         1.09730682e+01,   1.08927043e+01,   1.06630163e+01,\n",
       "         1.06076809e+01,   1.04198979e+01,   1.02020549e+01,\n",
       "         1.01631777e+01,   9.99386561e+00,   9.91119805e+00,\n",
       "         9.82795817e+00,   9.72595109e+00,   9.62473752e+00,\n",
       "         9.52523176e+00,   9.30270929e+00,   9.11174294e+00,\n",
       "         9.03318333e+00,   8.96794733e+00,   8.87557460e+00,\n",
       "         8.78148713e+00,   8.69964707e+00,   8.58211681e+00,\n",
       "         8.45372380e+00,   8.35642411e+00,   8.27982110e+00,\n",
       "         8.01707784e+00,   7.99002368e+00,   7.81995781e+00,\n",
       "         7.80505038e+00,   7.67649432e+00,   7.61713212e+00,\n",
       "         7.50528597e+00,   7.38562934e+00,   7.37764358e+00,\n",
       "         7.23335781e+00,   7.10731924e+00,   7.04621127e+00,\n",
       "         6.95608671e+00,   6.81927480e+00,   6.68886969e+00,\n",
       "         6.51589122e+00,   6.50237906e+00,   6.45459542e+00,\n",
       "         6.38406246e+00,   6.31317700e+00,   6.17706288e+00,\n",
       "         6.06991932e+00,   6.00148072e+00,   5.95304060e+00,\n",
       "         5.88305280e+00,   5.86544905e+00,   5.78437487e+00,\n",
       "         5.75429709e+00,   5.64993217e+00,   5.62042000e+00,\n",
       "         5.55517577e+00,   5.41841159e+00,   5.34573010e+00,\n",
       "         5.30457826e+00,   5.26505444e+00,   5.22991180e+00,\n",
       "         5.21802943e+00,   5.11523984e+00,   4.90673051e+00,\n",
       "         4.81344082e+00,   4.70699307e+00,   4.64812927e+00,\n",
       "         4.60768138e+00,   4.59079410e+00,   4.44578626e+00,\n",
       "         4.43965457e+00,   4.37927102e+00,   4.34003403e+00,\n",
       "         4.30148932e+00,   4.22811850e+00,   4.17810382e+00,\n",
       "         4.11054420e+00,   3.98362505e+00,   3.97772620e+00,\n",
       "         3.91370243e+00,   3.86552146e+00,   3.75779830e+00,\n",
       "         3.73248979e+00,   3.70213408e+00,   3.67590051e+00,\n",
       "         3.62598104e+00,   3.59529269e+00,   3.54865482e+00,\n",
       "         3.49618755e+00,   3.48585870e+00,   3.44066395e+00,\n",
       "         3.34295203e+00,   3.30844671e+00,   3.21049223e+00,\n",
       "         3.19849400e+00,   3.13990904e+00,   3.08963180e+00,\n",
       "         3.02156183e+00,   2.90725373e+00,   2.84001573e+00,\n",
       "         2.80556821e+00,   2.80412278e+00,   2.77774983e+00,\n",
       "         2.71729820e+00,   2.67126481e+00,   2.61513754e+00,\n",
       "         2.59919268e+00,   2.55027154e+00,   2.53070292e+00,\n",
       "         2.48799931e+00,   2.45845839e+00,   2.42295885e+00,\n",
       "         2.38929678e+00,   2.34277164e+00,   2.31013495e+00,\n",
       "         2.27721364e+00,   2.25124963e+00,   2.23077570e+00,\n",
       "         2.20314813e+00,   2.18358547e+00,   2.15928549e+00,\n",
       "         2.12271795e+00,   2.09746233e+00,   2.07534266e+00,\n",
       "         1.99514361e+00,   1.99417216e+00,   1.94108065e+00,\n",
       "         1.91903085e+00,   1.89305308e+00,   1.88424152e+00,\n",
       "         1.82591316e+00,   1.79830592e+00,   1.74783225e+00,\n",
       "         1.71895552e+00,   1.69705585e+00,   1.67433041e+00,\n",
       "         1.65091470e+00,   1.59516977e+00,   1.55738855e+00,\n",
       "         1.50602415e+00,   1.49094825e+00,   1.46147783e+00,\n",
       "         1.41539826e+00,   1.36605953e+00,   1.33841527e+00,\n",
       "         1.32840056e+00,   1.32080884e+00,   1.31172064e+00,\n",
       "         1.29697333e+00,   1.27745339e+00,   1.26431765e+00,\n",
       "         1.22511543e+00,   1.21170486e+00,   1.19979379e+00,\n",
       "         1.18666444e+00,   1.16611235e+00,   1.13963687e+00,\n",
       "         1.10170782e+00,   1.04712331e+00,   1.03717027e+00,\n",
       "         9.74448829e-01,   9.72340942e-01,   9.64421175e-01,\n",
       "         9.55474123e-01,   9.54699240e-01,   9.45801071e-01,\n",
       "         9.32242437e-01,   9.07582944e-01,   9.00197691e-01,\n",
       "         8.72399399e-01,   8.54081879e-01,   7.36046113e-01,\n",
       "         6.59207476e-01,   6.32824299e-01,   5.96268181e-01,\n",
       "         5.71105060e-01,   5.50254685e-01,   5.24612833e-01,\n",
       "         4.65984934e-01,   4.39782767e-01,   2.44535328e-01,\n",
       "         3.50136470e-11,   3.50136470e-11,   3.50136470e-11,\n",
       "         3.50136470e-11,   3.50136470e-11,   3.50136470e-11,\n",
       "         3.50136470e-11,   3.50136470e-11,   3.50136470e-11,\n",
       "         3.50136470e-11,   3.50136470e-11,   3.50136470e-11,\n",
       "         3.50136470e-11,   3.50136470e-11,   3.50136470e-11,\n",
       "         3.50136470e-11,   3.50136470e-11,   3.50136470e-11,\n",
       "         3.50136470e-11,   3.50136470e-11,   3.50136470e-11,\n",
       "         3.50136470e-11,   3.50136470e-11,   3.50136470e-11,\n",
       "         3.50136470e-11,   3.50136470e-11,   3.50136470e-11,\n",
       "         3.50136470e-11,   3.50136470e-11,   3.50136470e-11,\n",
       "         3.50136470e-11,   3.50136470e-11,   3.50136470e-11,\n",
       "         3.50136470e-11,   3.50136470e-11,   3.50136470e-11,\n",
       "         3.50136470e-11,   3.50136470e-11,   3.50136470e-11,\n",
       "         3.50136470e-11,   3.50136470e-11,   3.50136470e-11,\n",
       "         3.50136470e-11,   3.50136470e-11,   3.50136470e-11,\n",
       "         3.50136470e-11,   3.50136470e-11,   3.50136470e-11,\n",
       "         3.50136470e-11,   3.50136470e-11,   3.50136470e-11,\n",
       "         3.50136470e-11,   3.50136470e-11,   3.50136470e-11,\n",
       "         3.50136470e-11,   3.50136470e-11,   3.50136470e-11,\n",
       "         3.50136470e-11,   3.50136470e-11,   3.50136470e-11,\n",
       "         3.50136470e-11,   3.50136470e-11,   3.50136470e-11,\n",
       "         3.50136470e-11,   3.50136470e-11,   3.50136470e-11,\n",
       "         3.50136470e-11,   3.50136470e-11,   3.50136470e-11,\n",
       "         3.50136470e-11,   3.50136470e-11,   3.50136470e-11,\n",
       "         3.50136470e-11,   3.50136470e-11,   3.50136470e-11,\n",
       "         3.50136470e-11,   3.50136470e-11,   3.50136470e-11,\n",
       "         3.50136470e-11,   3.50136470e-11,   3.50136470e-11,\n",
       "         3.50136470e-11,   3.50136470e-11,   3.50136470e-11,\n",
       "         3.50136470e-11,   3.50136470e-11,   3.50136470e-11,\n",
       "         3.50136470e-11,   3.50136470e-11,   3.50136470e-11,\n",
       "         3.50136470e-11,   3.50136470e-11,   3.50136470e-11,\n",
       "         3.50136470e-11,   3.50136470e-11,   3.50136470e-11,\n",
       "         3.50136470e-11,   3.50136470e-11,   3.50136470e-11,\n",
       "         3.50136470e-11,   3.50136470e-11,   3.50136470e-11,\n",
       "         3.50136470e-11,   3.50136470e-11,   3.50136470e-11,\n",
       "         3.50136470e-11,   3.50136470e-11,   3.50136470e-11,\n",
       "         3.50136470e-11,   3.50136470e-11,   3.50136470e-11,\n",
       "         3.50136470e-11,   3.50136470e-11,   3.50136470e-11,\n",
       "         3.50136470e-11,   2.44567990e-14])"
      ]
     },
     "execution_count": 7,
     "metadata": {},
     "output_type": "execute_result"
    }
   ],
   "source": [
    "S"
   ]
  },
  {
   "cell_type": "code",
   "execution_count": 8,
   "metadata": {
    "collapsed": true
   },
   "outputs": [],
   "source": [
    "pist=[]\n",
    "for i in range(len(S)):\n",
    "     pist.append(sum(list(S)[: i ]) / sum(list(S)[:(len(S))]))\n",
    "pist=np.array(pist)\n",
    "pist=np.delete(pist,0)"
   ]
  },
  {
   "cell_type": "code",
   "execution_count": 9,
   "metadata": {},
   "outputs": [
    {
     "data": {
      "text/plain": [
       "377"
      ]
     },
     "execution_count": 9,
     "metadata": {},
     "output_type": "execute_result"
    }
   ],
   "source": [
    "len(S)"
   ]
  },
  {
   "cell_type": "code",
   "execution_count": null,
   "metadata": {
    "collapsed": true
   },
   "outputs": [],
   "source": []
  },
  {
   "cell_type": "code",
   "execution_count": 10,
   "metadata": {},
   "outputs": [
    {
     "data": {
      "text/plain": [
       "array([ 0.9777747 ,  0.98295775,  0.98573103,  0.98753884,  0.9890006 ,\n",
       "        0.99035709,  0.99102059,  0.99143555,  0.99177452,  0.992062  ,\n",
       "        0.99230788,  0.9925339 ,  0.99275344,  0.99295753,  0.99313894,\n",
       "        0.99331148,  0.99347   ,  0.99361412,  0.99375371,  0.99388679,\n",
       "        0.99401538,  0.9941385 ,  0.99425481,  0.99436838,  0.99447709,\n",
       "        0.99457947,  0.99468   ,  0.99477623,  0.99486978,  0.9949599 ,\n",
       "        0.99504894,  0.99513642,  0.99522076,  0.99530261,  0.99538149,\n",
       "        0.99545952,  0.99553514,  0.9956082 ,  0.99567723,  0.99574478,\n",
       "        0.99581145,  0.9958764 ,  0.99593971,  0.99600149,  0.996063  ,\n",
       "        0.99612425,  0.99618434,  0.9962417 ,  0.9962982 ,  0.9963538 ,\n",
       "        0.99640838,  0.99646278,  0.99651617,  0.99656875,  0.99662063,\n",
       "        0.99667102,  0.99672021,  0.99676835,  0.99681624,  0.99686319,\n",
       "        0.99690985,  0.9969557 ,  0.9970003 ,  0.99704443,  0.99708767,\n",
       "        0.99713065,  0.99717201,  0.99721284,  0.99725329,  0.99729342,\n",
       "        0.99733244,  0.99737095,  0.9974089 ,  0.9974465 ,  0.99748349,\n",
       "        0.99751993,  0.99755603,  0.99759136,  0.99762641,  0.99766124,\n",
       "        0.99769564,  0.99772966,  0.99776343,  0.99779649,  0.99782938,\n",
       "        0.99786168,  0.99789331,  0.99792482,  0.9979558 ,  0.99798653,\n",
       "        0.998017  ,  0.99804715,  0.99807699,  0.99810652,  0.99813536,\n",
       "        0.99816361,  0.99819161,  0.99821942,  0.99824693,  0.99827416,\n",
       "        0.99830113,  0.99832774,  0.99835395,  0.99837985,  0.99840552,\n",
       "        0.99843038,  0.99845515,  0.99847939,  0.99850359,  0.99852739,\n",
       "        0.998551  ,  0.99857427,  0.99859717,  0.99862004,  0.99864247,\n",
       "        0.9986645 ,  0.99868635,  0.99870791,  0.99872905,  0.99874979,\n",
       "        0.99876999,  0.99879015,  0.99881016,  0.99882995,  0.99884952,\n",
       "        0.99886867,  0.99888749,  0.9989061 ,  0.99892456,  0.99894279,\n",
       "        0.99896098,  0.99897891,  0.99899675,  0.99901427,  0.99903169,\n",
       "        0.99904891,  0.99906571,  0.99908229,  0.99909873,  0.99911505,\n",
       "        0.99913127,  0.99914745,  0.9991633 ,  0.99917852,  0.99919344,\n",
       "        0.99920803,  0.99922244,  0.99923673,  0.99925096,  0.99926474,\n",
       "        0.99927851,  0.99929208,  0.99930554,  0.99931887,  0.99933198,\n",
       "        0.99934494,  0.99935768,  0.99937003,  0.99938236,  0.99939449,\n",
       "        0.99940648,  0.99941813,  0.9994297 ,  0.99944118,  0.99945257,\n",
       "        0.99946382,  0.99947496,  0.99948596,  0.9994968 ,  0.99950761,\n",
       "        0.99951828,  0.99952864,  0.9995389 ,  0.99954885,  0.99955877,\n",
       "        0.9995685 ,  0.99957808,  0.99958745,  0.99959646,  0.99960527,\n",
       "        0.99961396,  0.99962266,  0.99963127,  0.99963969,  0.99964797,\n",
       "        0.99965608,  0.99966414,  0.99967205,  0.99967989,  0.99968761,\n",
       "        0.99969523,  0.99970274,  0.99971015,  0.99971741,  0.99972457,\n",
       "        0.99973163,  0.99973861,  0.99974553,  0.99975236,  0.99975913,\n",
       "        0.99976582,  0.9997724 ,  0.99977891,  0.99978534,  0.99979152,\n",
       "        0.99979771,  0.99980372,  0.99980967,  0.99981554,  0.99982138,\n",
       "        0.99982705,  0.99983262,  0.99983804,  0.99984337,  0.99984863,\n",
       "        0.99985382,  0.99985894,  0.99986388,  0.99986871,  0.99987338,\n",
       "        0.999878  ,  0.99988254,  0.99988692,  0.99989116,  0.99989531,\n",
       "        0.99989943,  0.99990352,  0.99990759,  0.99991161,  0.99991557,\n",
       "        0.99991949,  0.99992329,  0.99992704,  0.99993076,  0.99993444,\n",
       "        0.99993806,  0.99994159,  0.99994501,  0.99994825,  0.99995147,\n",
       "        0.99995449,  0.9999575 ,  0.99996049,  0.99996346,  0.99996642,\n",
       "        0.99996935,  0.99997224,  0.99997505,  0.99997784,  0.99998055,\n",
       "        0.99998319,  0.99998548,  0.99998752,  0.99998948,  0.99999133,\n",
       "        0.9999931 ,  0.99999481,  0.99999643,  0.99999788,  0.99999924,\n",
       "        1.        ,  1.        ,  1.        ,  1.        ,  1.        ,\n",
       "        1.        ,  1.        ,  1.        ,  1.        ,  1.        ,\n",
       "        1.        ,  1.        ,  1.        ,  1.        ,  1.        ,\n",
       "        1.        ,  1.        ,  1.        ,  1.        ,  1.        ,\n",
       "        1.        ,  1.        ,  1.        ,  1.        ,  1.        ,\n",
       "        1.        ,  1.        ,  1.        ,  1.        ,  1.        ,\n",
       "        1.        ,  1.        ,  1.        ,  1.        ,  1.        ,\n",
       "        1.        ,  1.        ,  1.        ,  1.        ,  1.        ,\n",
       "        1.        ,  1.        ,  1.        ,  1.        ,  1.        ,\n",
       "        1.        ,  1.        ,  1.        ,  1.        ,  1.        ,\n",
       "        1.        ,  1.        ,  1.        ,  1.        ,  1.        ,\n",
       "        1.        ,  1.        ,  1.        ,  1.        ,  1.        ,\n",
       "        1.        ,  1.        ,  1.        ,  1.        ,  1.        ,\n",
       "        1.        ,  1.        ,  1.        ,  1.        ,  1.        ,\n",
       "        1.        ,  1.        ,  1.        ,  1.        ,  1.        ,\n",
       "        1.        ,  1.        ,  1.        ,  1.        ,  1.        ,\n",
       "        1.        ,  1.        ,  1.        ,  1.        ,  1.        ,\n",
       "        1.        ,  1.        ,  1.        ,  1.        ,  1.        ,\n",
       "        1.        ,  1.        ,  1.        ,  1.        ,  1.        ,\n",
       "        1.        ,  1.        ,  1.        ,  1.        ,  1.        ,\n",
       "        1.        ,  1.        ,  1.        ,  1.        ,  1.        ,\n",
       "        1.        ,  1.        ,  1.        ,  1.        ,  1.        ,\n",
       "        1.        ,  1.        ,  1.        ,  1.        ,  1.        ,  1.        ])"
      ]
     },
     "execution_count": 10,
     "metadata": {},
     "output_type": "execute_result"
    }
   ],
   "source": [
    "pist"
   ]
  },
  {
   "cell_type": "code",
   "execution_count": 25,
   "metadata": {
    "collapsed": true
   },
   "outputs": [],
   "source": [
    "pist1=[]\n",
    "for i in range(len(list(pist))):\n",
    "    if list(pist)[i] <0.998:\n",
    "         pist1.append(list(pist)[i])\n",
    "pist1=np.array(pist1)"
   ]
  },
  {
   "cell_type": "code",
   "execution_count": 26,
   "metadata": {},
   "outputs": [
    {
     "data": {
      "image/png": "[encoded data removed]",
      "text/plain": [
       "<matplotlib.figure.Figure at 0x11926fa58>"
      ]
     },
     "metadata": {},
     "output_type": "display_data"
    }
   ],
   "source": [
    "ig = plt.figure(figsize=(30,10))\n",
    "sing_vals = np.arange(len(pist) )+1\n",
    "plt.plot(sing_vals, pist, 'ro-', linewidth=2)\n",
    "plt.title('Scree Plot')\n",
    "plt.xlabel('Principal Component')\n",
    "plt.ylabel('Eigenvalue')\n",
    "leg = plt.legend(['Eigenvalues from SVD'], loc='best', borderpad=0.3,\n",
    "                 shadow=False, prop= matplotlib.font_manager.FontProperties(size='small'),\n",
    "                 markerscale=0.4)\n",
    "leg.get_frame().set_alpha(0.4)\n",
    "leg.draggable(state=True)\n",
    "plt.show()"
   ]
  },
  {
   "cell_type": "code",
   "execution_count": 27,
   "metadata": {},
   "outputs": [
    {
     "data": {
      "text/plain": [
       "90"
      ]
     },
     "execution_count": 27,
     "metadata": {},
     "output_type": "execute_result"
    }
   ],
   "source": [
    "len(pist1)"
   ]
  },
  {
   "cell_type": "code",
   "execution_count": 14,
   "metadata": {},
   "outputs": [
    {
     "data": {
      "text/plain": [
       "array([ 0.9777747 ,  0.98295775,  0.98573103,  0.98753884,  0.9890006 ,\n",
       "        0.99035709,  0.99102059,  0.99143555,  0.99177452,  0.992062  ,\n",
       "        0.99230788,  0.9925339 ,  0.99275344,  0.99295753,  0.99313894,\n",
       "        0.99331148,  0.99347   ,  0.99361412,  0.99375371,  0.99388679,\n",
       "        0.99401538,  0.9941385 ,  0.99425481,  0.99436838,  0.99447709,\n",
       "        0.99457947,  0.99468   ,  0.99477623,  0.99486978,  0.9949599 ])"
      ]
     },
     "execution_count": 14,
     "metadata": {},
     "output_type": "execute_result"
    }
   ],
   "source": [
    "pist1"
   ]
  },
  {
   "cell_type": "code",
   "execution_count": 15,
   "metadata": {
    "collapsed": true
   },
   "outputs": [],
   "source": [
    "eigvals1=[]\n",
    "for i in list(eigvals):\n",
    "    if i <0.04 and i >0.0012 :\n",
    "         eigvals1[len(eigvals1):]=[i]"
   ]
  },
  {
   "cell_type": "code",
   "execution_count": 16,
   "metadata": {
    "collapsed": true
   },
   "outputs": [],
   "source": [
    "eigvals1=np.array(eigvals1)"
   ]
  },
  {
   "cell_type": "code",
   "execution_count": null,
   "metadata": {
    "collapsed": true
   },
   "outputs": [],
   "source": []
  },
  {
   "cell_type": "code",
   "execution_count": 17,
   "metadata": {
    "scrolled": true
   },
   "outputs": [
    {
     "data": {
      "image/png": "[encoded data removed]",
      "text/plain": [
       "<matplotlib.figure.Figure at 0x1178cc908>"
      ]
     },
     "metadata": {},
     "output_type": "display_data"
    }
   ],
   "source": [
    "ig = plt.figure(figsize=(30,10))\n",
    "sing_vals = np.arange(len(eigvals1) )+1\n",
    "plt.plot(sing_vals, eigvals1, 'ro-', linewidth=2)\n",
    "plt.title('Scree Plot')\n",
    "plt.xlabel('Principal Component')\n",
    "plt.ylabel('Eigenvalue')\n",
    "leg = plt.legend(['Eigenvalues from SVD'], loc='best', borderpad=0.3,\n",
    "                 shadow=False, prop= matplotlib.font_manager.FontProperties(size='small'),\n",
    "                 markerscale=0.4)\n",
    "leg.get_frame().set_alpha(0.4)\n",
    "leg.draggable(state=True)\n",
    "plt.show()"
   ]
  },
  {
   "cell_type": "code",
   "execution_count": 18,
   "metadata": {},
   "outputs": [
    {
     "data": {
      "image/png": "[encoded data removed]",
      "text/plain": [
       "<matplotlib.figure.Figure at 0x117caea58>"
      ]
     },
     "metadata": {},
     "output_type": "display_data"
    }
   ],
   "source": [
    "ig = plt.figure(figsize=(8,5))\n",
    "sing_vals = np.arange(len(eigvals2)) + 1\n",
    "plt.plot(sing_vals, eigvals2, 'ro-', linewidth=2)\n",
    "plt.title('Scree Plot')\n",
    "plt.xlabel('Principal Component')\n",
    "plt.ylabel('Eigenvalue')\n",
    "leg = plt.legend(['Eigenvalues from SVD'], loc='best', borderpad=0.3,\n",
    "                 shadow=False, prop=matplotlib.font_manager.FontProperties(size='small'),\n",
    "                 markerscale=0.4)\n",
    "leg.get_frame().set_alpha(0.4)\n",
    "leg.draggable(state=True)\n",
    "plt.show()"
   ]
  },
  {
   "cell_type": "code",
   "execution_count": null,
   "metadata": {
    "collapsed": true
   },
   "outputs": [],
   "source": []
  }
 ],
 "metadata": {
  "kernelspec": {
   "display_name": "Python 3",
   "language": "python",
   "name": "python3"
  },
  "language_info": {
   "codemirror_mode": {
    "name": "ipython",
    "version": 3
   },
   "file_extension": ".py",
   "mimetype": "text/x-python",
   "name": "python",
   "nbconvert_exporter": "python",
   "pygments_lexer": "ipython3",
   "version": "3.6.3"
  }
 },
 "nbformat": 4,
 "nbformat_minor": 2
}
