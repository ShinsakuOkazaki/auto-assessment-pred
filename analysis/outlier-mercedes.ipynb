{
 "cells": [
  {
   "cell_type": "code",
   "execution_count": 32,
   "metadata": {
    "collapsed": true
   },
   "outputs": [],
   "source": [
    "import numpy as np\n",
    "import pandas as pd\n",
    "from sklearn.model_selection import KFold"
   ]
  },
  {
   "cell_type": "code",
   "execution_count": 33,
   "metadata": {
    "collapsed": true
   },
   "outputs": [],
   "source": [
    "train = pd.read_csv('mertrain.csv')\n",
    "test= pd.read_csv('mertest.csv')"
   ]
  },
  {
   "cell_type": "code",
   "execution_count": 49,
   "metadata": {},
   "outputs": [],
   "source": [
    "from numpy.random import choice\n",
    "n_elements = train.shape[0]\n",
    "feats = train.columns.values[9:] \n",
    "n_feats = len(feats) \n",
    "weights = np.array(np.zeros(n_feats))\n",
    "weights += 1/n_feats\n",
    "\n",
    "best_feats = [] \n",
    "best_score = 0 \n",
    "epochs = 3000 \n",
    "n_features = 10 \n",
    "# try out different values\n",
    "wt_g = .2 \n",
    "#weight growth rate\n",
    "w_threshold = .2\n",
    "#weight to add feature\n",
    "kf = KFold( n_splits=3, shuffle=True)\n",
    "kf.get_n_splits(train.drop(['y'], axis=1).values)\n",
    "y = train['y'].values \n",
    "scores = [] \n",
    "top_feats = np.array([])"
   ]
  },
  {
   "cell_type": "code",
   "execution_count": 52,
   "metadata": {},
   "outputs": [
    {
     "ename": "NameError",
     "evalue": "name 'clipped_y' is not defined",
     "output_type": "error",
     "traceback": [
      "\u001b[0;31m---------------------------------------------------------------------------\u001b[0m",
      "\u001b[0;31mNameError\u001b[0m                                 Traceback (most recent call last)",
      "\u001b[0;32m<ipython-input-52-9d8bdb3068af>\u001b[0m in \u001b[0;36m<module>\u001b[0;34m()\u001b[0m\n\u001b[1;32m      8\u001b[0m         \u001b[0mX\u001b[0m \u001b[0;34m=\u001b[0m \u001b[0mtrain\u001b[0m\u001b[0;34m.\u001b[0m\u001b[0mloc\u001b[0m\u001b[0;34m[\u001b[0m\u001b[0;34m:\u001b[0m\u001b[0;34m,\u001b[0m\u001b[0msample_feats\u001b[0m\u001b[0;34m]\u001b[0m\u001b[0;34m\u001b[0m\u001b[0m\n\u001b[1;32m      9\u001b[0m         \u001b[0mtrn_X\u001b[0m\u001b[0;34m,\u001b[0m \u001b[0mtst_X\u001b[0m \u001b[0;34m=\u001b[0m \u001b[0mX\u001b[0m\u001b[0;34m.\u001b[0m\u001b[0miloc\u001b[0m\u001b[0;34m[\u001b[0m\u001b[0mtrn\u001b[0m\u001b[0;34m,\u001b[0m\u001b[0;34m:\u001b[0m\u001b[0;34m]\u001b[0m\u001b[0;34m,\u001b[0m \u001b[0mX\u001b[0m\u001b[0;34m.\u001b[0m\u001b[0miloc\u001b[0m\u001b[0;34m[\u001b[0m\u001b[0mtst\u001b[0m\u001b[0;34m,\u001b[0m\u001b[0;34m:\u001b[0m\u001b[0;34m]\u001b[0m\u001b[0;34m\u001b[0m\u001b[0m\n\u001b[0;32m---> 10\u001b[0;31m         \u001b[0mtrn_Y\u001b[0m\u001b[0;34m,\u001b[0m \u001b[0mtst_Y\u001b[0m \u001b[0;34m=\u001b[0m \u001b[0mclipped_y\u001b[0m\u001b[0;34m[\u001b[0m\u001b[0mtrn\u001b[0m\u001b[0;34m]\u001b[0m\u001b[0;34m,\u001b[0m \u001b[0mclipped_y\u001b[0m\u001b[0;34m[\u001b[0m\u001b[0mtst\u001b[0m\u001b[0;34m]\u001b[0m\u001b[0;34m\u001b[0m\u001b[0m\n\u001b[0m\u001b[1;32m     11\u001b[0m         \u001b[0;31m#mod = SVR(C=50, epsilon=3, gamma=.2)\u001b[0m\u001b[0;34m\u001b[0m\u001b[0;34m\u001b[0m\u001b[0m\n\u001b[1;32m     12\u001b[0m         \u001b[0;31m#mod = GBR(alpha=.01, n_estimators=50, max_depth=5, min_samples_leaf=15, subsample=.5, random_state=1776)\u001b[0m\u001b[0;34m\u001b[0m\u001b[0;34m\u001b[0m\u001b[0m\n",
      "\u001b[0;31mNameError\u001b[0m: name 'clipped_y' is not defined"
     ]
    }
   ],
   "source": [
    "for i, ind in enumerate(list(range(epochs))):\n",
    "    sample_feat_ids = choice(a=n_feats, size=n_features, \n",
    "                         replace=False, p=weights)\n",
    "    sample_feats = np.append(top_feats, feats[sample_feat_ids])\n",
    "    tst_P = np.array(np.zeros(n_elements))\n",
    "\n",
    "    for trn, tst in kf.split(train.drop(['y'],axis=1).values) : \n",
    "        X = train.loc[:,sample_feats]\n",
    "        trn_X, tst_X = X.iloc[trn,:], X.iloc[tst,:]\n",
    "        trn_Y, tst_Y = clipped_y[trn], clipped_y[tst]\n",
    "        #mod = SVR(C=50, epsilon=3, gamma=.2)\n",
    "        #mod = GBR(alpha=.01, n_estimators=50, max_depth=5, min_samples_leaf=15, subsample=.5, random_state=1776)\n",
    "        mod = RFR(n_estimators=100, max_depth=12, max_features=20, min_samples_leaf=4, n_jobs=2, random_state=1776)\n",
    "        mod.fit(trn_X, trn_Y)\n",
    "        tst_P[tst] = mod.predict(tst_X)\n",
    "\n",
    "    # I don't want to overfit to outliers so I am clipping all y's at 155\n",
    "        tst_rsq = r2(y_pred=tst_P, y_true=clipped_y)\n",
    "\n",
    "    if ind > 29:\n",
    "        scores.append(tst_rsq)\n",
    "        ma_rsq = np.mean(scores[-30:])\n",
    "        if ind % 25 == 0:\n",
    "            print(ind, ma_rsq, tst_rsq)\n",
    "            if tst_rsq > ma_rsq:\n",
    "                weights[sample_feat_ids] *= (1+wt_g)\n",
    "                sum_w = np.sum(weights)\n",
    "                weights /= sum_w\n",
    "            if tst_rsq > best_score:\n",
    "                best_score = tst_rsq\n",
    "                best_feats = sample_feats\n",
    "            else:\n",
    "                weights[sample_feat_ids] *= (1-wt_g)\n",
    "                sum_w = np.sum(weights)\n",
    "                weights /= sum_w\n",
    "                mx_w = np.max(weights)\n",
    "\n",
    "        # add feature to the top feats if weight is > threshold\n",
    "        if mx_w > w_threshold:\n",
    "            feat_imps = pd.Series(index = feats, data = weights)\n",
    "            new_feats = feat_imps[feat_imps > w_threshold].index.values\n",
    "            top_weights = feat_imps[feat_imps > w_threshold].values\n",
    "            top_feats = np.append(top_feats, new_feats)\n",
    "            feats = list(feats)\n",
    "            weights = list(weights)\n",
    "            for f,w in zip(new_feats,top_weights):\n",
    "                print(f, w)\n",
    "                feats.remove(f)\n",
    "                weights.remove(w)\n",
    "                n_feats = len(weights)\n",
    "                feats = np.array(feats)\n",
    "                weights = np.array(weights)\n",
    "                sum_w = np.sum(weights)\n",
    "                weights /= sum_w\n",
    "\n",
    "        if ind % 25 == 0: \n",
    "            print(mx_w)\n",
    "    else:\n",
    "        scores.append(tst_rsq)\n",
    "        print(ind, tst_rsq)"
   ]
  },
  {
   "cell_type": "code",
   "execution_count": null,
   "metadata": {
    "collapsed": true
   },
   "outputs": [],
   "source": []
  }
 ],
 "metadata": {
  "kernelspec": {
   "display_name": "Python 3",
   "language": "python",
   "name": "python3"
  },
  "language_info": {
   "codemirror_mode": {
    "name": "ipython",
    "version": 3
   },
   "file_extension": ".py",
   "mimetype": "text/x-python",
   "name": "python",
   "nbconvert_exporter": "python",
   "pygments_lexer": "ipython3",
   "version": "3.6.1"
  }
 },
 "nbformat": 4,
 "nbformat_minor": 2
}
