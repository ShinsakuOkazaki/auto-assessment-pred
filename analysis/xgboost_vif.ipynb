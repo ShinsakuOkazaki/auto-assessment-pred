{
 "cells": [
  {
   "cell_type": "code",
   "execution_count": 1,
   "metadata": {
    "collapsed": true
   },
   "outputs": [],
   "source": [
    "import numpy as np # linear algebra\n",
    "import pandas as pd # data processing, CSV file I/O (e.g. pd.read_csv)\n",
    "import matplotlib.pyplot as plt\n",
    "import seaborn as sns\n",
    "from sklearn import preprocessing\n",
    "import os\n",
    "import gc\n",
    "from sklearn.preprocessing import LabelEncoder\n",
    "from sklearn.preprocessing import OneHotEncoder\n",
    "color = sns.color_palette()\n",
    "%matplotlib inline\n",
    "pd.options.mode.chained_assignment = None  # default='warn'\n",
    "pd.options.display.max_columns = 999"
   ]
  },
  {
   "cell_type": "code",
   "execution_count": 22,
   "metadata": {},
   "outputs": [],
   "source": [
    "import numpy as np \n",
    "import pandas as pd\n",
    "import statsmodels.api as sm\n",
    "from sklearn.preprocessing import LabelEncoder\n",
    "from statsmodels.stats.outliers_influence import variance_inflation_factor\n",
    "import matplotlib.pyplot as plt\n",
    "import matplotlib\n",
    "from sklearn.model_selection import KFold\n",
    "import xgboost as xgb\n",
    "from sklearn.metrics import r2_score\n",
    "%matplotlib inline"
   ]
  },
  {
   "cell_type": "code",
   "execution_count": 3,
   "metadata": {},
   "outputs": [
    {
     "name": "stdout",
     "output_type": "stream",
     "text": [
      "Shape train: (4209, 378)\n",
      "Shape test: (4209, 377)\n"
     ]
    }
   ],
   "source": [
    "train = pd.read_csv(\"mertrain.csv\")\n",
    "test = pd.read_csv(\"mertest.csv\")\n",
    "\n",
    "# process columns, apply LabelEncoder to categorical features\n",
    "for c in train.columns:\n",
    "    if train[c].dtype == 'object':\n",
    "        lbl = LabelEncoder() \n",
    "        lbl.fit(list(train[c].values) + list(test[c].values)) \n",
    "        train[c] = lbl.transform(list(train[c].values))\n",
    "        test[c] = lbl.transform(list(test[c].values))\n",
    "\n",
    "# shape        \n",
    "print('Shape train: {}\\nShape test: {}'.format(train.shape, test.shape))"
   ]
  },
  {
   "cell_type": "code",
   "execution_count": 16,
   "metadata": {
    "collapsed": true
   },
   "outputs": [],
   "source": [
    "y = train['y'].values\n",
    "y_mean = np.mean(y)\n",
    "id_test = test['ID'].values\n",
    "X = train.drop(['y','ID'], axis=1).values\n",
    "X_test= test.drop(['ID'], axis=1).values"
   ]
  },
  {
   "cell_type": "code",
   "execution_count": 4,
   "metadata": {
    "collapsed": true
   },
   "outputs": [],
   "source": [
    "X = train.drop(['y'], axis=1).values"
   ]
  },
  {
   "cell_type": "code",
   "execution_count": 5,
   "metadata": {},
   "outputs": [
    {
     "data": {
      "text/plain": [
       "377"
      ]
     },
     "execution_count": 5,
     "metadata": {},
     "output_type": "execute_result"
    }
   ],
   "source": [
    "num_columns=X.shape[1]\n",
    "num_columns"
   ]
  },
  {
   "cell_type": "code",
   "execution_count": 6,
   "metadata": {},
   "outputs": [
    {
     "name": "stderr",
     "output_type": "stream",
     "text": [
      "C:\\Users\\chino\\Anaconda3\\lib\\site-packages\\statsmodels\\stats\\outliers_influence.py:167: RuntimeWarning: divide by zero encountered in double_scalars\n",
      "  vif = 1. / (1. - r_squared_i)\n",
      "C:\\Users\\chino\\Anaconda3\\lib\\site-packages\\statsmodels\\regression\\linear_model.py:1386: RuntimeWarning: invalid value encountered in double_scalars\n",
      "  return 1 - self.ssr/self.centered_tss\n"
     ]
    }
   ],
   "source": [
    "vifs=[variance_inflation_factor(X, i) for i in range(0, num_columns)]"
   ]
  },
  {
   "cell_type": "code",
   "execution_count": 7,
   "metadata": {
    "collapsed": true
   },
   "outputs": [],
   "source": [
    "from pandas import DataFrame\n",
    "vif_df=DataFrame(vifs, index=train.drop(['y'], axis=1).columns, columns=['VIF'])\n",
    "vif_df=vif_df.replace([np.inf, -np.inf], np.nan).dropna(how='all')\n",
    "vif_df=vif_df.sort_values(ascending=False, by='VIF')\n"
   ]
  },
  {
   "cell_type": "code",
   "execution_count": 8,
   "metadata": {
    "collapsed": true
   },
   "outputs": [],
   "source": [
    "best_vif=[]\n",
    "for i in list(vif_df.values):\n",
    "    if i>=10:\n",
    "        best_vif.append(i)"
   ]
  },
  {
   "cell_type": "code",
   "execution_count": 9,
   "metadata": {},
   "outputs": [
    {
     "data": {
      "text/plain": [
       "37"
      ]
     },
     "execution_count": 9,
     "metadata": {},
     "output_type": "execute_result"
    }
   ],
   "source": [
    "len(best_vif)"
   ]
  },
  {
   "cell_type": "code",
   "execution_count": 10,
   "metadata": {},
   "outputs": [
    {
     "data": {
      "text/plain": [
       "array(['X178', 'X362', 'X331', 'X49', 'X238', 'X129', 'X352', 'X179',\n",
       "       'X215', 'X161', 'X103', 'X329', 'X328', 'X356', 'X246', 'X85',\n",
       "       'X45', 'X367', 'X321', 'X256', 'X191', 'X358', 'X343', 'X355',\n",
       "       'X150', 'X43', 'X312', 'X272', 'X2', 'X219', 'X57', 'X241', 'X234',\n",
       "       'X197', 'X159', 'X65', 'X349', 'X223', 'X325', 'X87', 'X224',\n",
       "       'X182', 'X100', 'X1', 'X114', 'X135', 'X357', 'X275', 'X294',\n",
       "       'X361', 'X287', 'X148', 'X221', 'X327', 'X300', 'X350', 'X211',\n",
       "       'X75', 'X78', 'X116', 'X69', 'X27', 'X47', 'X274', 'X81', 'X273',\n",
       "       'X267', 'X351', 'X163', 'X70', 'X218', 'X68', 'X220', 'X50', 'X322',\n",
       "       'X354', 'X3', 'X366', 'X51', 'X55', 'X0', 'X64', 'X210', 'X46',\n",
       "       'X106', 'ID', 'X56', 'X82', 'X318', 'X5', 'X252', 'X153', 'X359',\n",
       "       'X225', 'X384', 'X301', 'X212', 'X323', 'X79', 'X91', 'X231',\n",
       "       'X206', 'X353', 'X151', 'X383', 'X141', 'X73', 'X38', 'X192',\n",
       "       'X124', 'X6', 'X292', 'X8', 'X270', 'X291', 'X319', 'X104', 'X288',\n",
       "       'X42', 'X190', 'X332', 'X4'], dtype=object)"
      ]
     },
     "execution_count": 10,
     "metadata": {},
     "output_type": "execute_result"
    }
   ],
   "source": [
    "sig_vals=np.array(vif_df.index)\n",
    "sig_vals"
   ]
  },
  {
   "cell_type": "code",
   "execution_count": 11,
   "metadata": {},
   "outputs": [
    {
     "data": {
      "text/html": [
       "<div>\n",
       "<style>\n",
       "    .dataframe thead tr:only-child th {\n",
       "        text-align: right;\n",
       "    }\n",
       "\n",
       "    .dataframe thead th {\n",
       "        text-align: left;\n",
       "    }\n",
       "\n",
       "    .dataframe tbody tr th {\n",
       "        vertical-align: top;\n",
       "    }\n",
       "</style>\n",
       "<table border=\"1\" class=\"dataframe\">\n",
       "  <thead>\n",
       "    <tr style=\"text-align: right;\">\n",
       "      <th></th>\n",
       "      <th>VIF</th>\n",
       "    </tr>\n",
       "  </thead>\n",
       "  <tbody>\n",
       "    <tr>\n",
       "      <th>X178</th>\n",
       "      <td>1139.903769</td>\n",
       "    </tr>\n",
       "    <tr>\n",
       "      <th>X362</th>\n",
       "      <td>697.916906</td>\n",
       "    </tr>\n",
       "    <tr>\n",
       "      <th>X331</th>\n",
       "      <td>308.303315</td>\n",
       "    </tr>\n",
       "    <tr>\n",
       "      <th>X49</th>\n",
       "      <td>304.506282</td>\n",
       "    </tr>\n",
       "    <tr>\n",
       "      <th>X238</th>\n",
       "      <td>303.421330</td>\n",
       "    </tr>\n",
       "  </tbody>\n",
       "</table>\n",
       "</div>"
      ],
      "text/plain": [
       "              VIF\n",
       "X178  1139.903769\n",
       "X362   697.916906\n",
       "X331   308.303315\n",
       "X49    304.506282\n",
       "X238   303.421330"
      ]
     },
     "execution_count": 11,
     "metadata": {},
     "output_type": "execute_result"
    }
   ],
   "source": [
    "vif_df.head()"
   ]
  },
  {
   "cell_type": "code",
   "execution_count": 12,
   "metadata": {
    "collapsed": true
   },
   "outputs": [],
   "source": [
    "vif_df_best=vif_df[vif_df.VIF>=10]\n",
    "vif_best_index=vif_df_best.index"
   ]
  },
  {
   "cell_type": "code",
   "execution_count": 23,
   "metadata": {},
   "outputs": [
    {
     "name": "stdout",
     "output_type": "stream",
     "text": [
      "[0]\ttrain-rmse:12.5797\ttest-rmse:12.5798\n",
      "[50]\ttrain-rmse:10.0884\ttest-rmse:10.133\n",
      "[100]\ttrain-rmse:8.98398\ttest-rmse:9.06203\n",
      "[150]\ttrain-rmse:8.52534\ttest-rmse:8.63041\n",
      "[200]\ttrain-rmse:8.31975\ttest-rmse:8.46428\n",
      "[250]\ttrain-rmse:8.20659\ttest-rmse:8.39844\n",
      "[300]\ttrain-rmse:8.13182\ttest-rmse:8.37669\n",
      "[350]\ttrain-rmse:8.07437\ttest-rmse:8.37341\n",
      "338\n",
      "[0]\ttrain-rmse:12.5797\ttest-rmse:12.5798\n",
      "[50]\ttrain-rmse:10.0884\ttest-rmse:10.133\n",
      "[100]\ttrain-rmse:8.98398\ttest-rmse:9.06203\n",
      "[150]\ttrain-rmse:8.52534\ttest-rmse:8.63041\n",
      "[200]\ttrain-rmse:8.31975\ttest-rmse:8.46428\n",
      "[250]\ttrain-rmse:8.20659\ttest-rmse:8.39844\n",
      "[300]\ttrain-rmse:8.13182\ttest-rmse:8.37669\n",
      "[350]\ttrain-rmse:8.07437\ttest-rmse:8.37341\n",
      "338\n",
      "[0]\ttrain-rmse:12.5797\ttest-rmse:12.5798\n",
      "[50]\ttrain-rmse:10.0884\ttest-rmse:10.133\n",
      "[100]\ttrain-rmse:8.98398\ttest-rmse:9.06203\n",
      "[150]\ttrain-rmse:8.52534\ttest-rmse:8.63041\n",
      "[200]\ttrain-rmse:8.31975\ttest-rmse:8.46428\n",
      "[250]\ttrain-rmse:8.20659\ttest-rmse:8.39844\n",
      "[300]\ttrain-rmse:8.13182\ttest-rmse:8.37669\n",
      "[350]\ttrain-rmse:8.07437\ttest-rmse:8.37341\n",
      "338\n",
      "[0]\ttrain-rmse:12.5797\ttest-rmse:12.5798\n",
      "[50]\ttrain-rmse:10.0884\ttest-rmse:10.133\n",
      "[100]\ttrain-rmse:8.98398\ttest-rmse:9.06203\n",
      "[150]\ttrain-rmse:8.52534\ttest-rmse:8.63041\n",
      "[200]\ttrain-rmse:8.31975\ttest-rmse:8.46428\n",
      "[250]\ttrain-rmse:8.20659\ttest-rmse:8.39844\n",
      "[300]\ttrain-rmse:8.13182\ttest-rmse:8.37669\n",
      "[350]\ttrain-rmse:8.07437\ttest-rmse:8.37341\n",
      "338\n",
      "[0]\ttrain-rmse:12.5797\ttest-rmse:12.5798\n",
      "[50]\ttrain-rmse:10.0884\ttest-rmse:10.133\n",
      "[100]\ttrain-rmse:8.98398\ttest-rmse:9.06203\n",
      "[150]\ttrain-rmse:8.52534\ttest-rmse:8.63041\n",
      "[200]\ttrain-rmse:8.31975\ttest-rmse:8.46428\n",
      "[250]\ttrain-rmse:8.20659\ttest-rmse:8.39844\n",
      "[300]\ttrain-rmse:8.13182\ttest-rmse:8.37669\n",
      "[350]\ttrain-rmse:8.07437\ttest-rmse:8.37341\n",
      "338\n",
      "[0]\ttrain-rmse:12.5797\ttest-rmse:12.5798\n",
      "[50]\ttrain-rmse:10.0884\ttest-rmse:10.133\n",
      "[100]\ttrain-rmse:8.98398\ttest-rmse:9.06203\n",
      "[150]\ttrain-rmse:8.52534\ttest-rmse:8.63041\n",
      "[200]\ttrain-rmse:8.31975\ttest-rmse:8.46428\n",
      "[250]\ttrain-rmse:8.20659\ttest-rmse:8.39844\n",
      "[300]\ttrain-rmse:8.13182\ttest-rmse:8.37669\n",
      "[350]\ttrain-rmse:8.07437\ttest-rmse:8.37341\n",
      "338\n",
      "[0]\ttrain-rmse:12.5797\ttest-rmse:12.5798\n",
      "[50]\ttrain-rmse:10.0884\ttest-rmse:10.133\n",
      "[100]\ttrain-rmse:8.98398\ttest-rmse:9.06203\n",
      "[150]\ttrain-rmse:8.52534\ttest-rmse:8.63041\n",
      "[200]\ttrain-rmse:8.31975\ttest-rmse:8.46428\n",
      "[250]\ttrain-rmse:8.20659\ttest-rmse:8.39843\n",
      "[300]\ttrain-rmse:8.13202\ttest-rmse:8.37615\n",
      "[350]\ttrain-rmse:8.07458\ttest-rmse:8.37297\n",
      "338\n",
      "[0]\ttrain-rmse:12.5797\ttest-rmse:12.5798\n",
      "[50]\ttrain-rmse:10.0884\ttest-rmse:10.133\n",
      "[100]\ttrain-rmse:8.98398\ttest-rmse:9.06203\n",
      "[150]\ttrain-rmse:8.52534\ttest-rmse:8.63041\n",
      "[200]\ttrain-rmse:8.31975\ttest-rmse:8.46428\n",
      "[250]\ttrain-rmse:8.20659\ttest-rmse:8.39843\n",
      "[300]\ttrain-rmse:8.13202\ttest-rmse:8.37615\n",
      "[350]\ttrain-rmse:8.07458\ttest-rmse:8.37297\n",
      "338\n",
      "[0]\ttrain-rmse:12.5797\ttest-rmse:12.5798\n",
      "[50]\ttrain-rmse:10.0884\ttest-rmse:10.133\n",
      "[100]\ttrain-rmse:8.98398\ttest-rmse:9.06203\n",
      "[150]\ttrain-rmse:8.52534\ttest-rmse:8.63041\n",
      "[200]\ttrain-rmse:8.31975\ttest-rmse:8.46428\n",
      "[250]\ttrain-rmse:8.20659\ttest-rmse:8.39843\n",
      "[300]\ttrain-rmse:8.13202\ttest-rmse:8.37615\n",
      "[350]\ttrain-rmse:8.07451\ttest-rmse:8.37305\n",
      "340\n",
      "[0]\ttrain-rmse:12.5797\ttest-rmse:12.5798\n",
      "[50]\ttrain-rmse:10.0884\ttest-rmse:10.133\n",
      "[100]\ttrain-rmse:8.98398\ttest-rmse:9.06203\n",
      "[150]\ttrain-rmse:8.52534\ttest-rmse:8.63041\n",
      "[200]\ttrain-rmse:8.31975\ttest-rmse:8.46428\n",
      "[250]\ttrain-rmse:8.20659\ttest-rmse:8.39843\n",
      "[300]\ttrain-rmse:8.13202\ttest-rmse:8.37615\n",
      "[350]\ttrain-rmse:8.07451\ttest-rmse:8.37305\n",
      "340\n",
      "[0]\ttrain-rmse:12.5797\ttest-rmse:12.5798\n",
      "[50]\ttrain-rmse:10.0884\ttest-rmse:10.133\n",
      "[100]\ttrain-rmse:8.98398\ttest-rmse:9.06203\n",
      "[150]\ttrain-rmse:8.52534\ttest-rmse:8.63041\n",
      "[200]\ttrain-rmse:8.31975\ttest-rmse:8.46428\n",
      "[250]\ttrain-rmse:8.20659\ttest-rmse:8.39843\n",
      "[300]\ttrain-rmse:8.13202\ttest-rmse:8.37615\n",
      "[350]\ttrain-rmse:8.07451\ttest-rmse:8.37305\n",
      "340\n",
      "[0]\ttrain-rmse:12.5797\ttest-rmse:12.5798\n",
      "[50]\ttrain-rmse:10.0884\ttest-rmse:10.133\n",
      "[100]\ttrain-rmse:8.98398\ttest-rmse:9.06203\n",
      "[150]\ttrain-rmse:8.52534\ttest-rmse:8.63041\n",
      "[200]\ttrain-rmse:8.31975\ttest-rmse:8.46428\n",
      "[250]\ttrain-rmse:8.20659\ttest-rmse:8.39843\n",
      "[300]\ttrain-rmse:8.13202\ttest-rmse:8.37615\n",
      "[350]\ttrain-rmse:8.07451\ttest-rmse:8.37305\n",
      "340\n",
      "[0]\ttrain-rmse:12.5797\ttest-rmse:12.5798\n",
      "[50]\ttrain-rmse:10.0884\ttest-rmse:10.133\n",
      "[100]\ttrain-rmse:8.98398\ttest-rmse:9.06203\n",
      "[150]\ttrain-rmse:8.52534\ttest-rmse:8.63041\n",
      "[200]\ttrain-rmse:8.31975\ttest-rmse:8.46428\n",
      "[250]\ttrain-rmse:8.20659\ttest-rmse:8.39843\n",
      "[300]\ttrain-rmse:8.13202\ttest-rmse:8.37615\n",
      "[350]\ttrain-rmse:8.07451\ttest-rmse:8.37305\n",
      "340\n",
      "[0]\ttrain-rmse:12.5797\ttest-rmse:12.5798\n",
      "[50]\ttrain-rmse:10.0884\ttest-rmse:10.133\n",
      "[100]\ttrain-rmse:8.98398\ttest-rmse:9.06203\n",
      "[150]\ttrain-rmse:8.52534\ttest-rmse:8.63041\n",
      "[200]\ttrain-rmse:8.31975\ttest-rmse:8.46428\n",
      "[250]\ttrain-rmse:8.20659\ttest-rmse:8.39843\n",
      "[300]\ttrain-rmse:8.13202\ttest-rmse:8.37615\n",
      "[350]\ttrain-rmse:8.07451\ttest-rmse:8.37305\n",
      "340\n",
      "[0]\ttrain-rmse:12.5797\ttest-rmse:12.5798\n",
      "[50]\ttrain-rmse:10.0884\ttest-rmse:10.133\n",
      "[100]\ttrain-rmse:8.98398\ttest-rmse:9.06203\n",
      "[150]\ttrain-rmse:8.52534\ttest-rmse:8.63041\n",
      "[200]\ttrain-rmse:8.31975\ttest-rmse:8.46428\n",
      "[250]\ttrain-rmse:8.20659\ttest-rmse:8.39843\n",
      "[300]\ttrain-rmse:8.13202\ttest-rmse:8.37615\n",
      "[350]\ttrain-rmse:8.07451\ttest-rmse:8.37305\n",
      "340\n",
      "[0]\ttrain-rmse:12.5797\ttest-rmse:12.5798\n",
      "[50]\ttrain-rmse:10.0884\ttest-rmse:10.133\n",
      "[100]\ttrain-rmse:8.98398\ttest-rmse:9.06203\n",
      "[150]\ttrain-rmse:8.52534\ttest-rmse:8.63041\n",
      "[200]\ttrain-rmse:8.31975\ttest-rmse:8.46428\n",
      "[250]\ttrain-rmse:8.20659\ttest-rmse:8.39843\n",
      "[300]\ttrain-rmse:8.13202\ttest-rmse:8.37615\n",
      "[350]\ttrain-rmse:8.07451\ttest-rmse:8.37305\n",
      "340\n",
      "[0]\ttrain-rmse:12.5797\ttest-rmse:12.5798\n",
      "[50]\ttrain-rmse:10.0884\ttest-rmse:10.133\n",
      "[100]\ttrain-rmse:8.98398\ttest-rmse:9.06203\n",
      "[150]\ttrain-rmse:8.52534\ttest-rmse:8.63041\n",
      "[200]\ttrain-rmse:8.31975\ttest-rmse:8.46428\n",
      "[250]\ttrain-rmse:8.20659\ttest-rmse:8.39843\n",
      "[300]\ttrain-rmse:8.13202\ttest-rmse:8.37615\n",
      "[350]\ttrain-rmse:8.07451\ttest-rmse:8.37305\n",
      "340\n",
      "[0]\ttrain-rmse:12.5797\ttest-rmse:12.5798\n",
      "[50]\ttrain-rmse:10.0884\ttest-rmse:10.133\n",
      "[100]\ttrain-rmse:8.98398\ttest-rmse:9.06203\n",
      "[150]\ttrain-rmse:8.52534\ttest-rmse:8.63041\n",
      "[200]\ttrain-rmse:8.31975\ttest-rmse:8.46428\n",
      "[250]\ttrain-rmse:8.20659\ttest-rmse:8.39843\n",
      "[300]\ttrain-rmse:8.13202\ttest-rmse:8.37615\n",
      "[350]\ttrain-rmse:8.07451\ttest-rmse:8.37305\n",
      "340\n",
      "[0]\ttrain-rmse:12.5797\ttest-rmse:12.5798\n",
      "[50]\ttrain-rmse:10.0884\ttest-rmse:10.133\n",
      "[100]\ttrain-rmse:8.98398\ttest-rmse:9.06203\n",
      "[150]\ttrain-rmse:8.52534\ttest-rmse:8.63041\n",
      "[200]\ttrain-rmse:8.31975\ttest-rmse:8.46428\n",
      "[250]\ttrain-rmse:8.20659\ttest-rmse:8.39843\n",
      "[300]\ttrain-rmse:8.13202\ttest-rmse:8.37615\n",
      "[350]\ttrain-rmse:8.07451\ttest-rmse:8.37305\n",
      "340\n",
      "[0]\ttrain-rmse:12.5797\ttest-rmse:12.5798\n",
      "[50]\ttrain-rmse:10.0884\ttest-rmse:10.133\n",
      "[100]\ttrain-rmse:8.98398\ttest-rmse:9.06203\n",
      "[150]\ttrain-rmse:8.52534\ttest-rmse:8.63041\n",
      "[200]\ttrain-rmse:8.31975\ttest-rmse:8.46421\n",
      "[250]\ttrain-rmse:8.2066\ttest-rmse:8.39823\n",
      "[300]\ttrain-rmse:8.13256\ttest-rmse:8.37554\n",
      "[350]\ttrain-rmse:8.07506\ttest-rmse:8.37233\n",
      "340\n",
      "[0]\ttrain-rmse:12.5797\ttest-rmse:12.5798\n",
      "[50]\ttrain-rmse:10.0884\ttest-rmse:10.133\n",
      "[100]\ttrain-rmse:8.98398\ttest-rmse:9.06203\n",
      "[150]\ttrain-rmse:8.52534\ttest-rmse:8.63041\n",
      "[200]\ttrain-rmse:8.31975\ttest-rmse:8.46421\n",
      "[250]\ttrain-rmse:8.2066\ttest-rmse:8.39823\n",
      "[300]\ttrain-rmse:8.13256\ttest-rmse:8.37554\n",
      "[350]\ttrain-rmse:8.07506\ttest-rmse:8.37233\n",
      "340\n",
      "[0]\ttrain-rmse:12.5797\ttest-rmse:12.5798\n",
      "[50]\ttrain-rmse:10.0884\ttest-rmse:10.133\n",
      "[100]\ttrain-rmse:8.98398\ttest-rmse:9.06203\n",
      "[150]\ttrain-rmse:8.52534\ttest-rmse:8.63041\n",
      "[200]\ttrain-rmse:8.31975\ttest-rmse:8.46421\n",
      "[250]\ttrain-rmse:8.2066\ttest-rmse:8.39823\n",
      "[300]\ttrain-rmse:8.13256\ttest-rmse:8.37554\n",
      "[350]\ttrain-rmse:8.07506\ttest-rmse:8.37233\n",
      "340\n",
      "[0]\ttrain-rmse:12.5797\ttest-rmse:12.5798\n",
      "[50]\ttrain-rmse:10.0884\ttest-rmse:10.133\n",
      "[100]\ttrain-rmse:8.98398\ttest-rmse:9.06203\n",
      "[150]\ttrain-rmse:8.52534\ttest-rmse:8.63041\n",
      "[200]\ttrain-rmse:8.31975\ttest-rmse:8.46421\n",
      "[250]\ttrain-rmse:8.2066\ttest-rmse:8.39823\n",
      "[300]\ttrain-rmse:8.13256\ttest-rmse:8.37554\n",
      "[350]\ttrain-rmse:8.07506\ttest-rmse:8.37233\n",
      "340\n",
      "[0]\ttrain-rmse:12.5797\ttest-rmse:12.5798\n",
      "[50]\ttrain-rmse:10.0884\ttest-rmse:10.133\n",
      "[100]\ttrain-rmse:8.98398\ttest-rmse:9.06203\n",
      "[150]\ttrain-rmse:8.52534\ttest-rmse:8.63041\n",
      "[200]\ttrain-rmse:8.31976\ttest-rmse:8.46418\n",
      "[250]\ttrain-rmse:8.20675\ttest-rmse:8.39805\n",
      "[300]\ttrain-rmse:8.13244\ttest-rmse:8.37514\n"
     ]
    },
    {
     "name": "stdout",
     "output_type": "stream",
     "text": [
      "[350]\ttrain-rmse:8.07492\ttest-rmse:8.37197\n",
      "340\n",
      "[0]\ttrain-rmse:12.5797\ttest-rmse:12.5798\n",
      "[50]\ttrain-rmse:10.0884\ttest-rmse:10.133\n",
      "[100]\ttrain-rmse:8.98398\ttest-rmse:9.06203\n",
      "[150]\ttrain-rmse:8.52534\ttest-rmse:8.63041\n",
      "[200]\ttrain-rmse:8.31976\ttest-rmse:8.46418\n",
      "[250]\ttrain-rmse:8.20675\ttest-rmse:8.39805\n",
      "[300]\ttrain-rmse:8.13244\ttest-rmse:8.37514\n",
      "[350]\ttrain-rmse:8.07493\ttest-rmse:8.37195\n",
      "340\n",
      "[0]\ttrain-rmse:12.5797\ttest-rmse:12.5798\n",
      "[50]\ttrain-rmse:10.0884\ttest-rmse:10.133\n",
      "[100]\ttrain-rmse:8.98398\ttest-rmse:9.06203\n",
      "[150]\ttrain-rmse:8.52534\ttest-rmse:8.63041\n",
      "[200]\ttrain-rmse:8.31976\ttest-rmse:8.46418\n",
      "[250]\ttrain-rmse:8.20675\ttest-rmse:8.39805\n",
      "[300]\ttrain-rmse:8.13244\ttest-rmse:8.37514\n",
      "[350]\ttrain-rmse:8.07493\ttest-rmse:8.37195\n",
      "340\n",
      "[0]\ttrain-rmse:12.5797\ttest-rmse:12.5798\n",
      "[50]\ttrain-rmse:10.0884\ttest-rmse:10.133\n",
      "[100]\ttrain-rmse:8.98399\ttest-rmse:9.06199\n",
      "[150]\ttrain-rmse:8.5254\ttest-rmse:8.6303\n",
      "[200]\ttrain-rmse:8.31997\ttest-rmse:8.46359\n",
      "[250]\ttrain-rmse:8.20706\ttest-rmse:8.3962\n",
      "[300]\ttrain-rmse:8.13271\ttest-rmse:8.37378\n",
      "[350]\ttrain-rmse:8.07539\ttest-rmse:8.36996\n",
      "342\n",
      "[0]\ttrain-rmse:12.5797\ttest-rmse:12.5798\n",
      "[50]\ttrain-rmse:10.0884\ttest-rmse:10.133\n",
      "[100]\ttrain-rmse:8.98399\ttest-rmse:9.06199\n",
      "[150]\ttrain-rmse:8.5254\ttest-rmse:8.6303\n",
      "[200]\ttrain-rmse:8.31997\ttest-rmse:8.46359\n",
      "[250]\ttrain-rmse:8.20706\ttest-rmse:8.3962\n",
      "[300]\ttrain-rmse:8.13271\ttest-rmse:8.37378\n",
      "[350]\ttrain-rmse:8.07539\ttest-rmse:8.36996\n",
      "342\n",
      "[0]\ttrain-rmse:12.5797\ttest-rmse:12.5798\n",
      "[50]\ttrain-rmse:10.0884\ttest-rmse:10.133\n",
      "[100]\ttrain-rmse:8.98399\ttest-rmse:9.06199\n",
      "[150]\ttrain-rmse:8.5254\ttest-rmse:8.6303\n",
      "[200]\ttrain-rmse:8.31997\ttest-rmse:8.46359\n",
      "[250]\ttrain-rmse:8.20706\ttest-rmse:8.3962\n",
      "[300]\ttrain-rmse:8.13271\ttest-rmse:8.37378\n",
      "[350]\ttrain-rmse:8.07539\ttest-rmse:8.36996\n",
      "342\n",
      "[0]\ttrain-rmse:12.5797\ttest-rmse:12.5798\n",
      "[50]\ttrain-rmse:10.0893\ttest-rmse:10.1336\n",
      "[100]\ttrain-rmse:8.98614\ttest-rmse:9.06191\n",
      "[150]\ttrain-rmse:8.52828\ttest-rmse:8.63085\n",
      "[200]\ttrain-rmse:8.3227\ttest-rmse:8.46405\n",
      "[250]\ttrain-rmse:8.20881\ttest-rmse:8.39621\n",
      "[300]\ttrain-rmse:8.13427\ttest-rmse:8.37494\n",
      "[350]\ttrain-rmse:8.07692\ttest-rmse:8.37196\n",
      "334\n",
      "[0]\ttrain-rmse:12.5797\ttest-rmse:12.5798\n",
      "[50]\ttrain-rmse:10.0893\ttest-rmse:10.1336\n",
      "[100]\ttrain-rmse:8.98614\ttest-rmse:9.06191\n",
      "[150]\ttrain-rmse:8.52828\ttest-rmse:8.63085\n",
      "[200]\ttrain-rmse:8.3227\ttest-rmse:8.46405\n",
      "[250]\ttrain-rmse:8.20881\ttest-rmse:8.39621\n",
      "[300]\ttrain-rmse:8.13427\ttest-rmse:8.37494\n",
      "[350]\ttrain-rmse:8.07692\ttest-rmse:8.37196\n",
      "334\n",
      "[0]\ttrain-rmse:12.5797\ttest-rmse:12.5798\n",
      "[50]\ttrain-rmse:10.0893\ttest-rmse:10.1336\n",
      "[100]\ttrain-rmse:8.98614\ttest-rmse:9.06191\n",
      "[150]\ttrain-rmse:8.52828\ttest-rmse:8.63085\n",
      "[200]\ttrain-rmse:8.3227\ttest-rmse:8.46405\n",
      "[250]\ttrain-rmse:8.20881\ttest-rmse:8.39621\n",
      "[300]\ttrain-rmse:8.13427\ttest-rmse:8.37494\n",
      "[350]\ttrain-rmse:8.07692\ttest-rmse:8.37196\n",
      "334\n",
      "[0]\ttrain-rmse:12.5797\ttest-rmse:12.5798\n",
      "[50]\ttrain-rmse:10.0897\ttest-rmse:10.1332\n",
      "[100]\ttrain-rmse:8.9869\ttest-rmse:9.06091\n",
      "[150]\ttrain-rmse:8.52919\ttest-rmse:8.62946\n",
      "[200]\ttrain-rmse:8.3236\ttest-rmse:8.46291\n",
      "[250]\ttrain-rmse:8.2105\ttest-rmse:8.39587\n",
      "[300]\ttrain-rmse:8.13594\ttest-rmse:8.3744\n",
      "[350]\ttrain-rmse:8.07859\ttest-rmse:8.37075\n",
      "339\n",
      "[0]\ttrain-rmse:12.5797\ttest-rmse:12.5798\n",
      "[50]\ttrain-rmse:10.0897\ttest-rmse:10.1332\n",
      "[100]\ttrain-rmse:8.9869\ttest-rmse:9.06091\n",
      "[150]\ttrain-rmse:8.52919\ttest-rmse:8.62946\n",
      "[200]\ttrain-rmse:8.3236\ttest-rmse:8.46291\n",
      "[250]\ttrain-rmse:8.2105\ttest-rmse:8.39587\n",
      "[300]\ttrain-rmse:8.13594\ttest-rmse:8.3744\n",
      "[350]\ttrain-rmse:8.07859\ttest-rmse:8.37075\n",
      "339\n",
      "[0]\ttrain-rmse:12.5797\ttest-rmse:12.5798\n",
      "[50]\ttrain-rmse:10.0897\ttest-rmse:10.1332\n",
      "[100]\ttrain-rmse:8.9869\ttest-rmse:9.06091\n",
      "[150]\ttrain-rmse:8.52919\ttest-rmse:8.62946\n",
      "[200]\ttrain-rmse:8.3236\ttest-rmse:8.46291\n",
      "[250]\ttrain-rmse:8.2105\ttest-rmse:8.39587\n",
      "[300]\ttrain-rmse:8.13594\ttest-rmse:8.3744\n",
      "[350]\ttrain-rmse:8.07859\ttest-rmse:8.37075\n",
      "339\n",
      "[0]\ttrain-rmse:12.5797\ttest-rmse:12.5798\n",
      "[50]\ttrain-rmse:10.0897\ttest-rmse:10.1332\n",
      "[100]\ttrain-rmse:8.9869\ttest-rmse:9.06091\n",
      "[150]\ttrain-rmse:8.52919\ttest-rmse:8.62946\n",
      "[200]\ttrain-rmse:8.3236\ttest-rmse:8.46291\n",
      "[250]\ttrain-rmse:8.2105\ttest-rmse:8.39587\n",
      "[300]\ttrain-rmse:8.13594\ttest-rmse:8.3744\n",
      "[350]\ttrain-rmse:8.07859\ttest-rmse:8.37075\n",
      "339\n",
      "[0]\ttrain-rmse:12.5797\ttest-rmse:12.5798\n",
      "[50]\ttrain-rmse:10.0897\ttest-rmse:10.1332\n",
      "[100]\ttrain-rmse:8.9869\ttest-rmse:9.06091\n",
      "[150]\ttrain-rmse:8.52919\ttest-rmse:8.62946\n",
      "[200]\ttrain-rmse:8.3236\ttest-rmse:8.46291\n",
      "[250]\ttrain-rmse:8.2105\ttest-rmse:8.39587\n",
      "[300]\ttrain-rmse:8.13594\ttest-rmse:8.3744\n",
      "[350]\ttrain-rmse:8.07859\ttest-rmse:8.37075\n",
      "339\n"
     ]
    }
   ],
   "source": [
    "# pipelineでVIFで削除する特徴量の数のベストを探す。\n",
    "r2_train=[]\n",
    "r2_valid=[]\n",
    "for i in np.arange(37):\n",
    "    eliminate = vif_best_index[0:i]\n",
    "    train_vif=train.drop(eliminate, axis=1)\n",
    "    test_vif=test.drop(eliminate, axis=1)\n",
    "    \n",
    "    X = train_vif.drop(['y'], axis=1).values\n",
    "    X_test= test_vif.values\n",
    "    \n",
    "    kf=KFold(n_splits=10, shuffle=True, random_state=0)\n",
    "    kf.get_n_splits(X)\n",
    "    \n",
    "    for train_index, test_index in kf.split(X):\n",
    "        X_train, y_train=X[train_index], y[train_index]\n",
    "        X_valid, y_valid=X[test_index], y[test_index]\n",
    "\n",
    "    # prepare dict of params for xgboost to run with\n",
    "    #xgb_params = {\n",
    "    #    'n_trees': 500, \n",
    "    #    'eta': 0.005,\n",
    "    #    'max_depth': 4,\n",
    "    #    'subsample': 0.95,\n",
    "    #    'objective': 'reg:linear',\n",
    "    #    'eval_metric': 'rmse',\n",
    "    #    'base_score': y_mean, # base prediction = mean(target)\n",
    "    #    'silent': 1\n",
    "    #}\n",
    "    xgb_params={\n",
    "    'gamma': 1.0,\n",
    "    'eta': 0.01,\n",
    "    'max_depth': 3,\n",
    "    'subsample':1.0,\n",
    "    'objective' : 'reg:linear',\n",
    "    'eval_metric': 'rmse',\n",
    "    'base_score' : y_mean,\n",
    "    'silent': 1,\n",
    "    'lambda': 1,\n",
    "    'alpha' : 0,\n",
    "    'n_trees': 500\n",
    "    }\n",
    "# form DMatrices for Xgboost training\n",
    "    dtrain = xgb.DMatrix(X_train, y_train)\n",
    "    dvalid=xgb.DMatrix(X_valid, y_valid)\n",
    "    dtest = xgb.DMatrix(X_test)\n",
    "\n",
    "# xgboost, cross-validation\n",
    "    cv_result = xgb.cv(xgb_params, \n",
    "                       dtrain, \n",
    "                       num_boost_round=500, # increase to have better results (~700)\n",
    "                       early_stopping_rounds=50,\n",
    "                       verbose_eval=50, \n",
    "                       show_stdv=False\n",
    "                      )\n",
    "\n",
    "    num_boost_rounds = len(cv_result)\n",
    "    print(num_boost_rounds)\n",
    "\n",
    "# train model\n",
    "    model = xgb.train(dict(xgb_params, silent=0), dtrain, num_boost_round=num_boost_rounds)\n",
    "    \n",
    "    r2_train.append(r2_score(y_train, model.predict(dtrain)))\n",
    "    r2_valid.append(r2_score(y_valid, model.predict(dvalid)))"
   ]
  },
  {
   "cell_type": "code",
   "execution_count": 24,
   "metadata": {},
   "outputs": [
    {
     "data": {
      "image/png": "[encoded data removed]",
      "text/plain": [
       "<matplotlib.figure.Figure at 0x20982a97390>"
      ]
     },
     "metadata": {},
     "output_type": "display_data"
    }
   ],
   "source": [
    "ig = plt.figure(figsize=(40,20))\n",
    "sing_vals = np.arange(len(r2_valid) )+1\n",
    "plt.plot(sing_vals, r2_valid, 'ro-', linewidth=2)\n",
    "plt.title('Xgboost_VIF')\n",
    "plt.xlabel('VIF',fontsize=3)\n",
    "plt.ylabel('R2_valid',fontsize=3)\n",
    "plt.tick_params(labelsize=30)\n",
    "\n",
    "plt.show()"
   ]
  },
  {
   "cell_type": "code",
   "execution_count": 25,
   "metadata": {},
   "outputs": [
    {
     "data": {
      "image/png": "[encoded data removed]",
      "text/plain": [
       "<matplotlib.figure.Figure at 0x20982afbcf8>"
      ]
     },
     "metadata": {},
     "output_type": "display_data"
    }
   ],
   "source": [
    "ig = plt.figure(figsize=(40,20))\n",
    "sing_vals = np.arange(len(r2_train) )+1\n",
    "plt.plot(sing_vals, r2_train, 'ro-', linewidth=2)\n",
    "plt.title('Xgboost_VIF')\n",
    "plt.xlabel('VIF',fontsize=3)\n",
    "plt.ylabel('R2_train',fontsize=3)\n",
    "plt.tick_params(labelsize=30)\n",
    "\n",
    "plt.show()"
   ]
  },
  {
   "cell_type": "code",
   "execution_count": 51,
   "metadata": {
    "collapsed": true
   },
   "outputs": [],
   "source": [
    "train_vif=train.drop(vif_best_index[0:27], axis=1)\n",
    "test_vif=test.drop(vif_best_index[0:27], axis=1)"
   ]
  },
  {
   "cell_type": "code",
   "execution_count": 52,
   "metadata": {
    "collapsed": true
   },
   "outputs": [],
   "source": [
    "y = train_vif['y'].values\n",
    "y_mean = np.mean(y)\n",
    "id_test = test_vif['ID'].values\n",
    "X = train_vif.drop(['y'], axis=1).values\n",
    "X_test= test_vif.values"
   ]
  },
  {
   "cell_type": "code",
   "execution_count": 53,
   "metadata": {},
   "outputs": [
    {
     "data": {
      "text/plain": [
       "10"
      ]
     },
     "execution_count": 53,
     "metadata": {},
     "output_type": "execute_result"
    }
   ],
   "source": [
    "from sklearn.model_selection import KFold\n",
    "kf=KFold(n_splits=10, shuffle=True, random_state=0)\n",
    "kf.get_n_splits(X)"
   ]
  },
  {
   "cell_type": "code",
   "execution_count": 54,
   "metadata": {
    "collapsed": true
   },
   "outputs": [],
   "source": [
    "for train_index, test_index in kf.split(X):\n",
    "    X_train, y_train=X[train_index], y[train_index]\n",
    "    X_valid, y_valid=X[test_index], y[test_index]"
   ]
  },
  {
   "cell_type": "code",
   "execution_count": 55,
   "metadata": {},
   "outputs": [
    {
     "name": "stdout",
     "output_type": "stream",
     "text": [
      "[0]\ttrain-rmse:12.5797\ttest-rmse:12.5798\n",
      "[50]\ttrain-rmse:10.0884\ttest-rmse:10.133\n",
      "[100]\ttrain-rmse:8.98399\ttest-rmse:9.06199\n",
      "[150]\ttrain-rmse:8.5254\ttest-rmse:8.6303\n",
      "[200]\ttrain-rmse:8.31997\ttest-rmse:8.46359\n",
      "[250]\ttrain-rmse:8.20706\ttest-rmse:8.3962\n",
      "[300]\ttrain-rmse:8.13271\ttest-rmse:8.37378\n",
      "[350]\ttrain-rmse:8.07539\ttest-rmse:8.36996\n",
      "342\n"
     ]
    }
   ],
   "source": [
    "import xgboost as xgb\n",
    "\n",
    "# prepare dict of params for xgboost to run with\n",
    "#xgb_params = {\n",
    "#        'n_trees': 500, \n",
    "#        'eta': 0.005,\n",
    "#        'max_depth': 4,\n",
    "#        'subsample': 0.95,\n",
    "#        'objective': 'reg:linear',\n",
    "#        'eval_metric': 'rmse',\n",
    "#        'base_score': y_mean, # base prediction = mean(target)\n",
    "#        'silent': 1\n",
    "#    }\n",
    "\n",
    "xgb_params={\n",
    "    'gamma': 1.0,\n",
    "    'eta': 0.01,\n",
    "    'max_depth': 3,\n",
    "    'subsample':1.0,\n",
    "    'objective' : 'reg:linear',\n",
    "    'eval_metric': 'rmse',\n",
    "    'base_score' : y_mean,\n",
    "    'silent': 1,\n",
    "    'lambda': 1,\n",
    "    'alpha' : 0,\n",
    "    'n_trees': 500\n",
    "   }\n",
    "\n",
    "# form DMatrices for Xgboost training\n",
    "dtrain = xgb.DMatrix(X_train, y_train)\n",
    "dvalid=xgb.DMatrix(X_valid, y_valid)\n",
    "dtest = xgb.DMatrix(X_test)\n",
    "\n",
    "# xgboost, cross-validation\n",
    "cv_result = xgb.cv(xgb_params, \n",
    "                   dtrain, \n",
    "                   num_boost_round=500, # increase to have better results (~700)\n",
    "                   early_stopping_rounds=50,\n",
    "                   verbose_eval=50, \n",
    "                   show_stdv=False\n",
    "                  )\n",
    "\n",
    "num_boost_rounds = len(cv_result)\n",
    "print(num_boost_rounds)\n",
    "\n",
    "# train model\n",
    "model = xgb.train(dict(xgb_params, silent=0), dtrain, num_boost_round=num_boost_rounds)"
   ]
  },
  {
   "cell_type": "code",
   "execution_count": 56,
   "metadata": {},
   "outputs": [
    {
     "name": "stdout",
     "output_type": "stream",
     "text": [
      "0.584644346267\n",
      "0.598948277794\n"
     ]
    }
   ],
   "source": [
    "from sklearn.metrics import r2_score\n",
    "\n",
    "# now fixed, correct calculation\n",
    "print(r2_score(y_train, model.predict(dtrain)))\n",
    "print(r2_score(y_valid, model.predict(dvalid)))"
   ]
  },
  {
   "cell_type": "code",
   "execution_count": 57,
   "metadata": {
    "collapsed": true
   },
   "outputs": [],
   "source": [
    "y_pred = model.predict(dtest)"
   ]
  },
  {
   "cell_type": "code",
   "execution_count": 58,
   "metadata": {
    "collapsed": true
   },
   "outputs": [],
   "source": [
    "sub = pd.DataFrame()\n",
    "sub['ID'] = id_test\n",
    "sub['y'] = y_pred\n",
    "sub.to_csv('xgboost-bestparam_vif27.csv', index=False)\n"
   ]
  },
  {
   "cell_type": "code",
   "execution_count": null,
   "metadata": {
    "collapsed": true
   },
   "outputs": [],
   "source": []
  }
 ],
 "metadata": {
  "kernelspec": {
   "display_name": "Python 3",
   "language": "python",
   "name": "python3"
  },
  "language_info": {
   "codemirror_mode": {
    "name": "ipython",
    "version": 3
   },
   "file_extension": ".py",
   "mimetype": "text/x-python",
   "name": "python",
   "nbconvert_exporter": "python",
   "pygments_lexer": "ipython3",
   "version": "3.6.3"
  }
 },
 "nbformat": 4,
 "nbformat_minor": 2
}
