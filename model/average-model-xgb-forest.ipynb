{
 "cells": [
  {
   "cell_type": "code",
   "execution_count": 51,
   "metadata": {
    "collapsed": true
   },
   "outputs": [],
   "source": [
    "import numpy as np\n",
    "import pandas as pd\n",
    "import matplotlib.pyplot as plt\n",
    "import matplotlib\n",
    "%matplotlib inline\n",
    "from sklearn.ensemble import RandomForestRegressor\n",
    "from sklearn.random_projection import GaussianRandomProjection\n",
    "from sklearn.random_projection import SparseRandomProjection\n",
    "from sklearn.decomposition import PCA, FastICA\n",
    "from sklearn.decomposition import TruncatedSVD\n",
    "pd.options.mode.chained_assignment = None  # default='warn'\n",
    "pd.options.display.max_columns = 999"
   ]
  },
  {
   "cell_type": "code",
   "execution_count": 52,
   "metadata": {},
   "outputs": [
    {
     "name": "stdout",
     "output_type": "stream",
     "text": [
      "Shape train: (4209, 378)\n",
      "Shape test: (4209, 377)\n"
     ]
    }
   ],
   "source": [
    "from sklearn.preprocessing import LabelEncoder\n",
    "train = pd.read_csv(\"mertrain.csv\")\n",
    "test = pd.read_csv(\"mertest.csv\")\n",
    "\n",
    "# process columns, apply LabelEncoder to categorical features\n",
    "for c in train.columns:\n",
    "    if train[c].dtype == 'object':\n",
    "        lbl = LabelEncoder() \n",
    "        lbl.fit(list(train[c].values) + list(test[c].values)) \n",
    "        train[c] = lbl.transform(list(train[c].values))\n",
    "        test[c] = lbl.transform(list(test[c].values))\n",
    "\n",
    "# shape        \n",
    "print('Shape train: {}\\nShape test: {}'.format(train.shape, test.shape))"
   ]
  },
  {
   "cell_type": "code",
   "execution_count": 53,
   "metadata": {
    "collapsed": true
   },
   "outputs": [],
   "source": [
    "y = train['y'].values\n",
    "y_mean = np.mean(y)\n",
    "id_test = test['ID'].values\n",
    "X = train.drop(['y','ID'], axis=1).values\n",
    "X_test= test.drop(['ID'], axis=1).values"
   ]
  },
  {
   "cell_type": "code",
   "execution_count": 54,
   "metadata": {},
   "outputs": [
    {
     "data": {
      "text/plain": [
       "5"
      ]
     },
     "execution_count": 54,
     "metadata": {},
     "output_type": "execute_result"
    }
   ],
   "source": [
    "from sklearn.model_selection import KFold\n",
    "kf=KFold(n_splits=5, shuffle=True, random_state=0)\n",
    "kf.get_n_splits(X)"
   ]
  },
  {
   "cell_type": "code",
   "execution_count": 55,
   "metadata": {
    "collapsed": true
   },
   "outputs": [],
   "source": [
    "for train_index, test_index in kf.split(X):\n",
    "    X_train, y_train=X[train_index], y[train_index]\n",
    "    X_valid, y_valid=X[test_index], y[test_index]"
   ]
  },
  {
   "cell_type": "code",
   "execution_count": 56,
   "metadata": {},
   "outputs": [
    {
     "data": {
      "text/plain": [
       "RandomForestRegressor(bootstrap=True, criterion='mse', max_depth=5,\n",
       "           max_features='auto', max_leaf_nodes=None,\n",
       "           min_impurity_decrease=0.0, min_impurity_split=None,\n",
       "           min_samples_leaf=1, min_samples_split=2,\n",
       "           min_weight_fraction_leaf=0.0, n_estimators=100, n_jobs=1,\n",
       "           oob_score=False, random_state=0, verbose=0, warm_start=False)"
      ]
     },
     "execution_count": 56,
     "metadata": {},
     "output_type": "execute_result"
    }
   ],
   "source": [
    "forest= RandomForestRegressor(n_estimators=100, random_state=0, max_depth=5)\n",
    "forest.fit(X_train, y_train)"
   ]
  },
  {
   "cell_type": "code",
   "execution_count": 57,
   "metadata": {},
   "outputs": [
    {
     "name": "stdout",
     "output_type": "stream",
     "text": [
      "R^2 valid:  0.5911715362591088\n",
      "R^2 train:  0.6025906693231765\n"
     ]
    }
   ],
   "source": [
    "from sklearn.metrics import r2_score\n",
    "print(\"R^2 valid: {: }\".format(r2_score(y_valid, forest.predict(X_valid))))\n",
    "print(\"R^2 train: {: }\".format(r2_score(y_train, forest.predict(X_train))))"
   ]
  },
  {
   "cell_type": "code",
   "execution_count": 58,
   "metadata": {
    "collapsed": true
   },
   "outputs": [],
   "source": [
    "y_pred_forest=forest.predict(X_test)"
   ]
  },
  {
   "cell_type": "code",
   "execution_count": 59,
   "metadata": {
    "collapsed": true
   },
   "outputs": [],
   "source": [
    "train_important=train[[\"X315\",\"X314\",\"X118\",\"X29\",\"X0\",\"X127\",\"X5\",\"X47\",\"X3\",\"X1\"]]\n",
    "test_important=test[[\"X315\",\"X314\",\"X118\",\"X29\",\"X0\",\"X127\",\"X5\",\"X47\",\"X3\",\"X1\"]]"
   ]
  },
  {
   "cell_type": "code",
   "execution_count": 60,
   "metadata": {
    "collapsed": true
   },
   "outputs": [],
   "source": [
    " n_comp = 30\n",
    "pca = PCA(n_components=n_comp, random_state=420)\n",
    "pca2_results_train = pca.fit_transform(train.drop([\"y\"], axis=1))\n",
    "pca2_results_test = pca.transform(test)"
   ]
  },
  {
   "cell_type": "code",
   "execution_count": 61,
   "metadata": {
    "collapsed": true
   },
   "outputs": [],
   "source": [
    "df_pca_train=pd.DataFrame(pca2_results_train)\n",
    "df_pca_test=pd.DataFrame(pca2_results_test)"
   ]
  },
  {
   "cell_type": "code",
   "execution_count": 62,
   "metadata": {
    "collapsed": true
   },
   "outputs": [],
   "source": [
    "train_pca_important= pd.concat([df_pca_train, train_important], axis=1, join='inner')\n",
    "test_pca_important=pd.concat([df_pca_test, test_important], axis=1, join='inner')"
   ]
  },
  {
   "cell_type": "code",
   "execution_count": 63,
   "metadata": {
    "collapsed": true
   },
   "outputs": [],
   "source": [
    "for train_index, test_index in kf.split(train_pca_important):\n",
    "    X_train2, y_train2=train_pca_important.values[train_index], y[train_index]\n",
    "    X_valid2, y_valid2=train_pca_important.values[test_index], y[test_index]"
   ]
  },
  {
   "cell_type": "code",
   "execution_count": 64,
   "metadata": {},
   "outputs": [
    {
     "name": "stdout",
     "output_type": "stream",
     "text": [
      "[0]\ttrain-rmse:12.7325\ttest-rmse:12.7273\n",
      "[50]\ttrain-rmse:11.1731\ttest-rmse:11.2669\n",
      "[100]\ttrain-rmse:10.0896\ttest-rmse:10.2789\n",
      "[150]\ttrain-rmse:9.34901\ttest-rmse:9.62855\n",
      "[200]\ttrain-rmse:8.84639\ttest-rmse:9.21213\n",
      "[250]\ttrain-rmse:8.50688\ttest-rmse:8.95345\n",
      "[300]\ttrain-rmse:8.26947\ttest-rmse:8.79692\n",
      "[350]\ttrain-rmse:8.08218\ttest-rmse:8.70885\n",
      "[400]\ttrain-rmse:7.91481\ttest-rmse:8.65805\n",
      "[450]\ttrain-rmse:7.76648\ttest-rmse:8.63065\n",
      "[499]\ttrain-rmse:7.63559\ttest-rmse:8.61394\n",
      "500\n"
     ]
    }
   ],
   "source": [
    "import xgboost as xgb\n",
    "\n",
    "# prepare dict of params for xgboost to run with\n",
    "xgb_params = {\n",
    "    'n_trees': 500, \n",
    "    'eta': 0.005,\n",
    "    'max_depth': 4,\n",
    "    'subsample': 0.95,\n",
    "    'objective': 'reg:linear',\n",
    "    'eval_metric': 'rmse',\n",
    "    'base_score': y_mean, # base prediction = mean(target)\n",
    "    'silent': 1\n",
    "}\n",
    "\n",
    "# form DMatrices for Xgboost training\n",
    "dtrain = xgb.DMatrix(X_train2, y_train2)\n",
    "dvalid=xgb.DMatrix(X_valid2, y_valid2)\n",
    "dtest = xgb.DMatrix(test_pca_important.values)\n",
    "\n",
    "# xgboost, cross-validation\n",
    "cv_result = xgb.cv(xgb_params, \n",
    "                   dtrain, \n",
    "                   num_boost_round=500, # increase to have better results (~700)\n",
    "                   early_stopping_rounds=50,\n",
    "                   verbose_eval=50, \n",
    "                   show_stdv=False\n",
    "                  )\n",
    "\n",
    "num_boost_rounds = len(cv_result)\n",
    "print(num_boost_rounds)\n",
    "\n",
    "# train model\n",
    "model = xgb.train(dict(xgb_params, silent=0), dtrain, num_boost_round=num_boost_rounds)"
   ]
  },
  {
   "cell_type": "code",
   "execution_count": 65,
   "metadata": {},
   "outputs": [
    {
     "name": "stdout",
     "output_type": "stream",
     "text": [
      "R^2 valid:  0.5856221010636866\n",
      "R^2 train:  0.6146487627918052\n"
     ]
    }
   ],
   "source": [
    "from sklearn.metrics import r2_score\n",
    "print(\"R^2 valid: {: }\".format(r2_score(y_valid2, model.predict(dvalid))))\n",
    "print(\"R^2 train: {: }\".format(r2_score(y_train2, model.predict(dtrain))))"
   ]
  },
  {
   "cell_type": "code",
   "execution_count": 79,
   "metadata": {
    "collapsed": true
   },
   "outputs": [],
   "source": [
    "y_pre_pred=model.predict(dvalid)*0.25+forest.predict(X_valid)*0.75\n",
    "y_train_pred=model.predict(dtrain)*0.25+forest.predict(X_train)*0.75"
   ]
  },
  {
   "cell_type": "code",
   "execution_count": 80,
   "metadata": {},
   "outputs": [
    {
     "name": "stdout",
     "output_type": "stream",
     "text": [
      "R^2 train:  0.6080504146297732\n",
      "R^2 valid:  0.5920359580182867\n"
     ]
    }
   ],
   "source": [
    "print(\"R^2 train: {: }\".format(r2_score(y_train, y_train_pred )))\n",
    "print(\"R^2 valid: {: }\".format(r2_score(y_valid, y_pre_pred)))"
   ]
  },
  {
   "cell_type": "code",
   "execution_count": 68,
   "metadata": {
    "collapsed": true
   },
   "outputs": [],
   "source": [
    "mx_valid=0\n",
    "for i in np.arange(0, 1, 0.05):\n",
    "    y_pre_pred=(model.predict(dvalid)*i)+(forest.predict(X_valid)*(1.0-i))\n",
    "    y_train_pred=(model.predict(dtrain)*i)+(forest.predict(X_train)*(1.0-i))\n",
    "    r2_valid=r2_score(y_valid, y_pre_pred)\n",
    "    r2_train=r2_score(y_train, y_train_pred)\n",
    "    if r2_valid> mx_valid:\n",
    "        mx_valid=r2_valid\n",
    "        rate_valid=i"
   ]
  },
  {
   "cell_type": "code",
   "execution_count": 69,
   "metadata": {},
   "outputs": [
    {
     "name": "stdout",
     "output_type": "stream",
     "text": [
      "average rate: 0.25 : 0.75 \n",
      "R^2valid max: 0.5920359580182867\n"
     ]
    }
   ],
   "source": [
    "print(\"average rate: {:} : {:} \".format(rate_valid, 1.0-rate_valid))\n",
    "print(\"R^2valid max: {:}\".format(mx_valid))"
   ]
  },
  {
   "cell_type": "code",
   "execution_count": 70,
   "metadata": {},
   "outputs": [
    {
     "data": {
      "text/plain": [
       "array([ 0.  ,  0.05,  0.1 ,  0.15,  0.2 ,  0.25,  0.3 ,  0.35,  0.4 ,\n",
       "        0.45,  0.5 ,  0.55,  0.6 ,  0.65,  0.7 ,  0.75,  0.8 ,  0.85,\n",
       "        0.9 ,  0.95])"
      ]
     },
     "execution_count": 70,
     "metadata": {},
     "output_type": "execute_result"
    }
   ],
   "source": [
    "np.arange(0,1,0.05)"
   ]
  },
  {
   "cell_type": "code",
   "execution_count": 71,
   "metadata": {
    "collapsed": true
   },
   "outputs": [],
   "source": [
    "pist_valid=[]\n",
    "pist_train=[]\n",
    "for i in np.arange(0,1, 0.05):\n",
    "    y_pre_pred=model.predict(dvalid)*i + forest.predict(X_valid)*(1.0-i)\n",
    "    y_train_pred=(model.predict(dtrain)*i)+( forest.predict(X_train)*(1.0-i))\n",
    "    r2_valid=r2_score(y_valid, y_pre_pred)\n",
    "    r2_train=r2_score(y_train, y_train_pred)\n",
    "    pist_valid.append(r2_valid)\n",
    "    pist_train.append(r2_train)"
   ]
  },
  {
   "cell_type": "code",
   "execution_count": 72,
   "metadata": {
    "scrolled": true
   },
   "outputs": [
    {
     "data": {
      "image/png": "[encoded data removed]",
      "text/plain": [
       "<matplotlib.figure.Figure at 0x231e68bf9e8>"
      ]
     },
     "metadata": {},
     "output_type": "display_data"
    }
   ],
   "source": [
    "ig = plt.figure(figsize=(30,10))\n",
    "plt.plot(np.arange(0,1,0.05), pist_valid, 'ro-', linewidth=2)\n",
    "plt.title('Best Valid')\n",
    "plt.xlabel('Valid Rate',fontsize=3)\n",
    "plt.ylabel('R^2',fontsize=3)\n",
    "plt.tick_params(labelsize=30)\n",
    "leg = plt.legend(['R^2 from xgb + forest'], loc='best', borderpad=0.3,\n",
    "                 shadow=False, prop= matplotlib.font_manager.FontProperties(size='small'),\n",
    "                 markerscale=0.4)\n",
    "leg.get_frame().set_alpha(0.4)\n",
    "leg.draggable(state=True)\n",
    "plt.show()"
   ]
  },
  {
   "cell_type": "code",
   "execution_count": 73,
   "metadata": {},
   "outputs": [
    {
     "data": {
      "image/png": "[encoded data removed]",
      "text/plain": [
       "<matplotlib.figure.Figure at 0x231e6283908>"
      ]
     },
     "metadata": {},
     "output_type": "display_data"
    }
   ],
   "source": [
    "ig = plt.figure(figsize=(30,10))\n",
    "plt.plot(np.arange(0,1,0.05), pist_train, 'ro-', linewidth=2)\n",
    "plt.title('Best Train')\n",
    "plt.xlabel('Train Rate')\n",
    "plt.ylabel('R^2')\n",
    "leg = plt.legend(['R^2 from xgb + forest'], loc='best', borderpad=0.3,\n",
    "                 shadow=False, prop= matplotlib.font_manager.FontProperties(size='small'),\n",
    "                 markerscale=0.4)\n",
    "leg.get_frame().set_alpha(0.4)\n",
    "leg.draggable(state=True)\n",
    "plt.show()"
   ]
  },
  {
   "cell_type": "code",
   "execution_count": 74,
   "metadata": {
    "collapsed": true
   },
   "outputs": [],
   "source": [
    "y_pred_xgb = model.predict(dtest)"
   ]
  },
  {
   "cell_type": "code",
   "execution_count": 75,
   "metadata": {
    "collapsed": true
   },
   "outputs": [],
   "source": [
    "y_pred=y_pred_xgb*0.25+ y_pred_forest*0.75"
   ]
  },
  {
   "cell_type": "code",
   "execution_count": 76,
   "metadata": {
    "collapsed": true
   },
   "outputs": [],
   "source": [
    "sub = pd.DataFrame()\n",
    "sub['ID'] = id_test\n",
    "sub['y'] = y_pred\n",
    "sub.to_csv('average-xgb25+forest75.csv', index=False)"
   ]
  },
  {
   "cell_type": "code",
   "execution_count": null,
   "metadata": {
    "collapsed": true
   },
   "outputs": [],
   "source": []
  }
 ],
 "metadata": {
  "kernelspec": {
   "display_name": "Python 3",
   "language": "python",
   "name": "python3"
  },
  "language_info": {
   "codemirror_mode": {
    "name": "ipython",
    "version": 3
   },
   "file_extension": ".py",
   "mimetype": "text/x-python",
   "name": "python",
   "nbconvert_exporter": "python",
   "pygments_lexer": "ipython3",
   "version": "3.6.3"
  }
 },
 "nbformat": 4,
 "nbformat_minor": 2
}
