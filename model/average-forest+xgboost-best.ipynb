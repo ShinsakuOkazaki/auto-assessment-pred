{
 "cells": [
  {
   "cell_type": "code",
   "execution_count": 37,
   "metadata": {
    "collapsed": true
   },
   "outputs": [],
   "source": [
    "import numpy as np\n",
    "import pandas as pd\n",
    "import matplotlib.pyplot as plt\n",
    "import matplotlib\n",
    "%matplotlib inline\n",
    "from sklearn.preprocessing import LabelEncoder\n",
    "from sklearn.pipeline import Pipeline\n",
    "from sklearn.model_selection import KFold\n",
    "from sklearn.metrics import r2_score\n",
    "from xgboost import XGBRegressor\n",
    "pd.options.mode.chained_assignment = None  # default='warn'\n",
    "pd.options.display.max_columns = 999\n",
    "import statsmodels.api as sm\n",
    "from statsmodels.stats.outliers_influence import variance_inflation_factor\n",
    "import xgboost as xgb\n",
    "from sklearn.ensemble import RandomForestRegressor"
   ]
  },
  {
   "cell_type": "code",
   "execution_count": 9,
   "metadata": {},
   "outputs": [
    {
     "name": "stdout",
     "output_type": "stream",
     "text": [
      "Shape train: (4209, 378)\n",
      "Shape test: (4209, 377)\n"
     ]
    }
   ],
   "source": [
    "train = pd.read_csv(\"mertrain.csv\")\n",
    "test = pd.read_csv(\"mertest.csv\")\n",
    "\n",
    "# process columns, apply LabelEncoder to categorical features\n",
    "for c in train.columns:\n",
    "    if train[c].dtype == 'object':\n",
    "        lbl = LabelEncoder() \n",
    "        lbl.fit(list(train[c].values) + list(test[c].values)) \n",
    "        train[c] = lbl.transform(list(train[c].values))\n",
    "        test[c] = lbl.transform(list(test[c].values))\n",
    "\n",
    "# shape        \n",
    "print('Shape train: {}\\nShape test: {}'.format(train.shape, test.shape))"
   ]
  },
  {
   "cell_type": "code",
   "execution_count": 10,
   "metadata": {
    "collapsed": true
   },
   "outputs": [],
   "source": [
    "y = train['y'].values\n",
    "y_mean = np.mean(y)\n",
    "id_test = test['ID'].values\n",
    "X = train.drop(['y'], axis=1).values\n",
    "X_test= test.values"
   ]
  },
  {
   "cell_type": "code",
   "execution_count": 16,
   "metadata": {},
   "outputs": [
    {
     "data": {
      "text/plain": [
       "377"
      ]
     },
     "execution_count": 16,
     "metadata": {},
     "output_type": "execute_result"
    }
   ],
   "source": [
    "num_columns=X.shape[1]\n",
    "num_columns"
   ]
  },
  {
   "cell_type": "code",
   "execution_count": 17,
   "metadata": {},
   "outputs": [
    {
     "name": "stderr",
     "output_type": "stream",
     "text": [
      "C:\\Users\\chino\\Anaconda3\\lib\\site-packages\\statsmodels\\stats\\outliers_influence.py:167: RuntimeWarning: divide by zero encountered in double_scalars\n",
      "  vif = 1. / (1. - r_squared_i)\n",
      "C:\\Users\\chino\\Anaconda3\\lib\\site-packages\\statsmodels\\regression\\linear_model.py:1386: RuntimeWarning: invalid value encountered in double_scalars\n",
      "  return 1 - self.ssr/self.centered_tss\n"
     ]
    }
   ],
   "source": [
    "vifs=[variance_inflation_factor(X, i) for i in range(0, num_columns)]"
   ]
  },
  {
   "cell_type": "code",
   "execution_count": 18,
   "metadata": {
    "collapsed": true
   },
   "outputs": [],
   "source": [
    "from pandas import DataFrame\n",
    "vif_df=DataFrame(vifs, index=train.drop(['y'], axis=1).columns, columns=['VIF'])\n",
    "vif_df=vif_df.replace([np.inf, -np.inf], np.nan).dropna(how='all')\n",
    "vif_df=vif_df.sort_values(ascending=False, by='VIF')\n"
   ]
  },
  {
   "cell_type": "code",
   "execution_count": 19,
   "metadata": {
    "collapsed": true
   },
   "outputs": [],
   "source": [
    "best_vif=[]\n",
    "for i in list(vif_df.values):\n",
    "    if i>=10:\n",
    "        best_vif.append(i)"
   ]
  },
  {
   "cell_type": "code",
   "execution_count": 20,
   "metadata": {},
   "outputs": [
    {
     "data": {
      "text/plain": [
       "array(['X178', 'X362', 'X331', 'X49', 'X238', 'X129', 'X352', 'X179',\n",
       "       'X215', 'X161', 'X103', 'X329', 'X328', 'X356', 'X246', 'X85',\n",
       "       'X45', 'X367', 'X321', 'X256', 'X191', 'X358', 'X343', 'X355',\n",
       "       'X150', 'X43', 'X312', 'X272', 'X2', 'X219', 'X57', 'X241', 'X234',\n",
       "       'X197', 'X159', 'X65', 'X349', 'X223', 'X325', 'X87', 'X224',\n",
       "       'X182', 'X100', 'X1', 'X114', 'X135', 'X357', 'X275', 'X294',\n",
       "       'X361', 'X287', 'X148', 'X221', 'X327', 'X300', 'X350', 'X211',\n",
       "       'X75', 'X78', 'X116', 'X69', 'X27', 'X47', 'X274', 'X81', 'X273',\n",
       "       'X267', 'X351', 'X163', 'X70', 'X218', 'X68', 'X220', 'X50', 'X322',\n",
       "       'X354', 'X3', 'X366', 'X51', 'X55', 'X0', 'X64', 'X210', 'X46',\n",
       "       'X106', 'ID', 'X56', 'X82', 'X318', 'X5', 'X252', 'X153', 'X359',\n",
       "       'X225', 'X384', 'X301', 'X212', 'X323', 'X79', 'X91', 'X231',\n",
       "       'X206', 'X353', 'X151', 'X383', 'X141', 'X73', 'X38', 'X192',\n",
       "       'X124', 'X6', 'X292', 'X8', 'X270', 'X291', 'X319', 'X104', 'X288',\n",
       "       'X42', 'X190', 'X332', 'X4'], dtype=object)"
      ]
     },
     "execution_count": 20,
     "metadata": {},
     "output_type": "execute_result"
    }
   ],
   "source": [
    "sig_vals=np.array(vif_df.index)\n",
    "sig_vals"
   ]
  },
  {
   "cell_type": "code",
   "execution_count": 21,
   "metadata": {
    "collapsed": true
   },
   "outputs": [],
   "source": [
    "vif_df_best=vif_df[vif_df.VIF>=10]\n",
    "vif_best_index=vif_df_best.index"
   ]
  },
  {
   "cell_type": "code",
   "execution_count": 22,
   "metadata": {
    "collapsed": true
   },
   "outputs": [],
   "source": [
    "train_vif=train.drop(vif_best_index[0:34], axis=1)\n",
    "test_vif=test.drop(vif_best_index[0:34], axis=1)"
   ]
  },
  {
   "cell_type": "code",
   "execution_count": 23,
   "metadata": {
    "collapsed": true
   },
   "outputs": [],
   "source": [
    "y = train_vif['y'].values\n",
    "y_mean = np.mean(y)\n",
    "id_test = test_vif['ID'].values\n",
    "X = train_vif.drop(['y'], axis=1).values\n",
    "X_test= test_vif.values"
   ]
  },
  {
   "cell_type": "code",
   "execution_count": 24,
   "metadata": {},
   "outputs": [
    {
     "data": {
      "text/plain": [
       "10"
      ]
     },
     "execution_count": 24,
     "metadata": {},
     "output_type": "execute_result"
    }
   ],
   "source": [
    "from sklearn.model_selection import KFold\n",
    "kf=KFold(n_splits=10, shuffle=True, random_state=0)\n",
    "kf.get_n_splits(X)"
   ]
  },
  {
   "cell_type": "code",
   "execution_count": 25,
   "metadata": {
    "collapsed": true
   },
   "outputs": [],
   "source": [
    "for train_index, test_index in kf.split(X):\n",
    "    X_train, y_train=X[train_index], y[train_index]\n",
    "    X_valid, y_valid=X[test_index], y[test_index]"
   ]
  },
  {
   "cell_type": "code",
   "execution_count": 28,
   "metadata": {},
   "outputs": [
    {
     "data": {
      "text/plain": [
       "RandomForestRegressor(bootstrap=True, criterion='mse', max_depth=5,\n",
       "           max_features='auto', max_leaf_nodes=None,\n",
       "           min_impurity_decrease=0.0, min_impurity_split=None,\n",
       "           min_samples_leaf=1, min_samples_split=2,\n",
       "           min_weight_fraction_leaf=0.0, n_estimators=500, n_jobs=-1,\n",
       "           oob_score=False, random_state=0, verbose=0, warm_start=False)"
      ]
     },
     "execution_count": 28,
     "metadata": {},
     "output_type": "execute_result"
    }
   ],
   "source": [
    "forest = RandomForestRegressor(n_estimators=500, random_state=0, max_depth=5, n_jobs=-1)\n",
    "forest.fit(X_train, y_train)"
   ]
  },
  {
   "cell_type": "code",
   "execution_count": 32,
   "metadata": {},
   "outputs": [
    {
     "name": "stdout",
     "output_type": "stream",
     "text": [
      "R^2 valid:  0.6000896203872931\n",
      "R^2 train:  0.6065572768266798\n"
     ]
    }
   ],
   "source": [
    "print(\"R^2 valid: {: }\".format(r2_score(y_valid, forest.predict(X_valid))))\n",
    "print(\"R^2 train: {: }\".format(r2_score(y_train, forest.predict(X_train))))"
   ]
  },
  {
   "cell_type": "code",
   "execution_count": 47,
   "metadata": {
    "collapsed": true
   },
   "outputs": [],
   "source": [
    "train_vif2=train.drop(vif_best_index[0:27], axis=1)\n",
    "test_vif2=test.drop(vif_best_index[0:27], axis=1)"
   ]
  },
  {
   "cell_type": "code",
   "execution_count": 48,
   "metadata": {
    "collapsed": true
   },
   "outputs": [],
   "source": [
    "y = train_vif['y'].values\n",
    "y_mean = np.mean(y)\n",
    "id_test = test_vif['ID'].values\n",
    "X2 = train_vif2.drop(['y'], axis=1).values\n",
    "X_test2= test_vif2.values"
   ]
  },
  {
   "cell_type": "code",
   "execution_count": 49,
   "metadata": {},
   "outputs": [
    {
     "data": {
      "text/plain": [
       "10"
      ]
     },
     "execution_count": 49,
     "metadata": {},
     "output_type": "execute_result"
    }
   ],
   "source": [
    "from sklearn.model_selection import KFold\n",
    "kf=KFold(n_splits=10, shuffle=True, random_state=0)\n",
    "kf.get_n_splits(X2)"
   ]
  },
  {
   "cell_type": "code",
   "execution_count": 50,
   "metadata": {
    "collapsed": true
   },
   "outputs": [],
   "source": [
    "for train_index, test_index in kf.split(X):\n",
    "    X_train2, y_train2=X[train_index], y[train_index]\n",
    "    X_valid2, y_valid2=X[test_index], y[test_index]"
   ]
  },
  {
   "cell_type": "code",
   "execution_count": 65,
   "metadata": {},
   "outputs": [
    {
     "data": {
      "text/plain": [
       "array([ 9, 24, 21, 38,  5,  3, 30, 11,  4,  0,  0,  0,  0,  0,  0,  0,  0,\n",
       "        0,  0,  0,  0,  0,  0,  0,  0,  1,  1,  1,  0,  1,  0,  0,  0,  1,\n",
       "        0,  1,  0,  0,  0,  0,  0,  0,  1,  0,  0,  0,  0,  0,  0,  1,  0,\n",
       "        0,  0,  0,  0,  0,  1,  0,  0,  0,  0,  0,  0,  0,  0,  1,  1,  0,\n",
       "        1,  0,  1,  0,  0,  0,  1,  0,  0,  0,  1,  0,  0,  0,  0,  0,  0,\n",
       "        0,  0,  0,  0,  1,  0,  1,  0,  0,  1,  0,  0,  0,  0,  0,  1,  0,\n",
       "        0,  1,  0,  0,  1,  0,  0,  0,  0,  0,  1,  0,  0,  0,  0,  0,  0,\n",
       "        1,  0,  0,  1,  0,  0,  0,  0,  0,  0,  0,  0,  0,  1,  0,  1,  0,\n",
       "        0,  0,  1,  0,  0,  0,  0,  0,  0,  1,  0,  0,  0,  1,  0,  0,  0,\n",
       "        1,  0,  0,  0,  0,  0,  0,  0,  1,  0,  0,  0,  0,  0,  0,  0,  0,\n",
       "        0,  0,  0,  0,  0,  0,  1,  0,  0,  0,  0,  0,  0,  0,  0,  0,  0,\n",
       "        1,  0,  0,  0,  1,  0,  0,  0,  0,  0,  0,  0,  1,  0,  1,  0,  0,\n",
       "        1,  0,  0,  0,  0,  0,  1,  0,  0,  1,  0,  0,  0,  0,  0,  0,  0,\n",
       "        1,  0,  0,  1,  0,  0,  0,  0,  1,  0,  1,  0,  0,  0,  0,  0,  0,\n",
       "        0,  0,  0,  0,  0,  0,  0,  0,  0,  0,  0,  0,  1,  1,  0,  0,  1,\n",
       "        0,  0,  1,  0,  0,  0,  0,  0,  0,  1,  0,  0,  0,  0,  1,  0,  0,\n",
       "        0,  0,  0,  0,  0,  0,  0,  0,  0,  1,  0,  0,  0,  0,  0,  0,  0,\n",
       "        0,  0,  0,  0,  0,  0,  0,  0,  0,  0,  0,  0,  0,  0,  0,  0,  0,\n",
       "        0,  0,  0,  0,  0,  0,  0,  0,  0,  0,  0,  0,  0,  1,  0,  1,  0,\n",
       "        0,  0,  0,  0,  0,  1,  1,  0,  0,  0,  0,  0,  0,  0,  1,  0,  0,\n",
       "        0,  0,  0,  0,  0,  0,  0,  0,  0,  0], dtype=int64)"
      ]
     },
     "execution_count": 65,
     "metadata": {},
     "output_type": "execute_result"
    }
   ],
   "source": [
    "X[3]"
   ]
  },
  {
   "cell_type": "code",
   "execution_count": 51,
   "metadata": {},
   "outputs": [
    {
     "name": "stdout",
     "output_type": "stream",
     "text": [
      "[0]\ttrain-rmse:12.5797\ttest-rmse:12.5798\n",
      "[50]\ttrain-rmse:10.0884\ttest-rmse:10.133\n",
      "[100]\ttrain-rmse:8.98399\ttest-rmse:9.06199\n",
      "[150]\ttrain-rmse:8.5254\ttest-rmse:8.6303\n",
      "[200]\ttrain-rmse:8.31997\ttest-rmse:8.46359\n",
      "[250]\ttrain-rmse:8.20706\ttest-rmse:8.3962\n",
      "[300]\ttrain-rmse:8.13271\ttest-rmse:8.37378\n",
      "[350]\ttrain-rmse:8.07539\ttest-rmse:8.36996\n",
      "342\n"
     ]
    }
   ],
   "source": [
    "import xgboost as xgb\n",
    "xgb_params={\n",
    "    'gamma': 1.0,\n",
    "    'eta': 0.01,\n",
    "    'max_depth': 3,\n",
    "    'subsample':1.0,\n",
    "    'objective' : 'reg:linear',\n",
    "    'eval_metric': 'rmse',\n",
    "    'base_score' : y_mean,\n",
    "    'silent': 1,\n",
    "    'lambda': 1,\n",
    "    'alpha' : 0,\n",
    "    'n_trees': 500\n",
    "   }\n",
    "\n",
    "# form DMatrices for Xgboost training\n",
    "dtrain = xgb.DMatrix(X_train2, y_train2)\n",
    "dvalid=xgb.DMatrix(X_valid2, y_valid2)\n",
    "dtest = xgb.DMatrix(X_test2)\n",
    "\n",
    "# xgboost, cross-validation\n",
    "cv_result = xgb.cv(xgb_params, \n",
    "                   dtrain, \n",
    "                   num_boost_round=500, # increase to have better results (~700)\n",
    "                   early_stopping_rounds=50,\n",
    "                   verbose_eval=50, \n",
    "                   show_stdv=False\n",
    "                  )\n",
    "\n",
    "num_boost_rounds = len(cv_result)\n",
    "print(num_boost_rounds)\n",
    "\n",
    "# train model\n",
    "model = xgb.train(dict(xgb_params, silent=0), dtrain, num_boost_round=num_boost_rounds)"
   ]
  },
  {
   "cell_type": "code",
   "execution_count": 52,
   "metadata": {},
   "outputs": [
    {
     "name": "stdout",
     "output_type": "stream",
     "text": [
      "R^2 valid:  0.5989482777939268\n",
      "R^2 train:  0.5846443462669415\n"
     ]
    }
   ],
   "source": [
    "print(\"R^2 valid: {: }\".format(r2_score(y_valid, model.predict(dvalid))))\n",
    "print(\"R^2 train: {: }\".format(r2_score(y_train, model.predict(dtrain))))"
   ]
  },
  {
   "cell_type": "code",
   "execution_count": 53,
   "metadata": {
    "collapsed": true
   },
   "outputs": [],
   "source": [
    "mx_valid=0\n",
    "for i in np.arange(0, 1, 0.05):\n",
    "    y_pre_pred=(model.predict(dvalid)*i)+(forest.predict(X_valid)*(1.0-i))\n",
    "    y_train_pred=(model.predict(dtrain)*i)+(forest.predict(X_train)*(1.0-i))\n",
    "    r2_valid=r2_score(y_valid, y_pre_pred)\n",
    "    r2_train=r2_score(y_train, y_train_pred)\n",
    "    if r2_valid> mx_valid:\n",
    "        mx_valid=r2_valid\n",
    "        rate_valid=i"
   ]
  },
  {
   "cell_type": "code",
   "execution_count": 54,
   "metadata": {},
   "outputs": [
    {
     "name": "stdout",
     "output_type": "stream",
     "text": [
      "average rate: 0.35000000000000003 : 0.6499999999999999 \n",
      "R^2valid max: 0.6006486751623243\n"
     ]
    }
   ],
   "source": [
    "print(\"average rate: {:} : {:} \".format(rate_valid, 1.0-rate_valid))\n",
    "print(\"R^2valid max: {:}\".format(mx_valid))"
   ]
  },
  {
   "cell_type": "code",
   "execution_count": 55,
   "metadata": {
    "collapsed": true
   },
   "outputs": [],
   "source": [
    "pist_valid=[]\n",
    "pist_train=[]\n",
    "for i in np.arange(0,1, 0.05):\n",
    "    y_pre_pred=model.predict(dvalid)*i + forest.predict(X_valid)*(1.0-i)\n",
    "    y_train_pred=(model.predict(dtrain)*i)+( forest.predict(X_train)*(1.0-i))\n",
    "    r2_valid=r2_score(y_valid, y_pre_pred)\n",
    "    r2_train=r2_score(y_train, y_train_pred)\n",
    "    pist_valid.append(r2_valid)\n",
    "    pist_train.append(r2_train)"
   ]
  },
  {
   "cell_type": "code",
   "execution_count": 56,
   "metadata": {},
   "outputs": [
    {
     "data": {
      "image/png": "[encoded data removed]",
      "text/plain": [
       "<matplotlib.figure.Figure at 0x259bfd3c0f0>"
      ]
     },
     "metadata": {},
     "output_type": "display_data"
    }
   ],
   "source": [
    "ig = plt.figure(figsize=(30,10))\n",
    "plt.plot(np.arange(0,1,0.05), pist_valid, 'ro-', linewidth=2)\n",
    "plt.title('Best Valid')\n",
    "plt.xlabel('Valid Rate',fontsize=3)\n",
    "plt.ylabel('R^2',fontsize=3)\n",
    "plt.tick_params(labelsize=30)\n",
    "leg = plt.legend(['R^2 from xgb + forest'], loc='best', borderpad=0.3,\n",
    "                 shadow=False, prop= matplotlib.font_manager.FontProperties(size='small'),\n",
    "                 markerscale=0.4)\n",
    "leg.get_frame().set_alpha(0.4)\n",
    "leg.draggable(state=True)\n",
    "plt.show()"
   ]
  },
  {
   "cell_type": "code",
   "execution_count": 57,
   "metadata": {},
   "outputs": [
    {
     "data": {
      "image/png": "[encoded data removed]",
      "text/plain": [
       "<matplotlib.figure.Figure at 0x259bfce3978>"
      ]
     },
     "metadata": {},
     "output_type": "display_data"
    }
   ],
   "source": [
    "ig = plt.figure(figsize=(30,10))\n",
    "plt.plot(np.arange(0,1,0.05), pist_train, 'ro-', linewidth=2)\n",
    "plt.title('Best Train')\n",
    "plt.xlabel('Train Rate')\n",
    "plt.ylabel('R^2')\n",
    "leg = plt.legend(['R^2 from xgb + forest'], loc='best', borderpad=0.3,\n",
    "                 shadow=False, prop= matplotlib.font_manager.FontProperties(size='small'),\n",
    "                 markerscale=0.4)\n",
    "leg.get_frame().set_alpha(0.4)\n",
    "leg.draggable(state=True)\n",
    "plt.show()"
   ]
  },
  {
   "cell_type": "code",
   "execution_count": 58,
   "metadata": {
    "collapsed": true
   },
   "outputs": [],
   "source": [
    "y_pred_xgb = model.predict(dtest)\n",
    "y_pred_forest = forest.predict(X_test)"
   ]
  },
  {
   "cell_type": "code",
   "execution_count": 59,
   "metadata": {
    "collapsed": true
   },
   "outputs": [],
   "source": [
    "y_pred = y_pred_xgb*0.35+y_pred_forest*0.65"
   ]
  },
  {
   "cell_type": "code",
   "execution_count": 60,
   "metadata": {
    "collapsed": true
   },
   "outputs": [],
   "source": [
    "sub = pd.DataFrame()\n",
    "sub['ID'] = id_test\n",
    "sub['y'] = y_pred\n",
    "sub.to_csv('average-xgb35+forest65-best.csv', index=False)"
   ]
  },
  {
   "cell_type": "code",
   "execution_count": null,
   "metadata": {
    "collapsed": true
   },
   "outputs": [],
   "source": []
  }
 ],
 "metadata": {
  "kernelspec": {
   "display_name": "Python 3",
   "language": "python",
   "name": "python3"
  },
  "language_info": {
   "codemirror_mode": {
    "name": "ipython",
    "version": 3
   },
   "file_extension": ".py",
   "mimetype": "text/x-python",
   "name": "python",
   "nbconvert_exporter": "python",
   "pygments_lexer": "ipython3",
   "version": "3.6.3"
  }
 },
 "nbformat": 4,
 "nbformat_minor": 2
}
