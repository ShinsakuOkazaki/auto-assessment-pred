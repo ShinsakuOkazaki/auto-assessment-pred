{
 "cells": [
  {
   "cell_type": "code",
   "execution_count": 38,
   "metadata": {
    "collapsed": true
   },
   "outputs": [],
   "source": [
    "import numpy as np\n",
    "import pandas as pd\n",
    "from sklearn.ensemble import RandomForestRegressor\n",
    "from sklearn.random_projection import GaussianRandomProjection\n",
    "from sklearn.random_projection import SparseRandomProjection\n",
    "from sklearn.decomposition import PCA, FastICA\n",
    "from sklearn.decomposition import TruncatedSVD"
   ]
  },
  {
   "cell_type": "code",
   "execution_count": 39,
   "metadata": {},
   "outputs": [
    {
     "name": "stdout",
     "output_type": "stream",
     "text": [
      "Shape train: (4209, 378)\n",
      "Shape test: (4209, 377)\n"
     ]
    }
   ],
   "source": [
    "from sklearn.preprocessing import LabelEncoder\n",
    "train = pd.read_csv(\"mertrain.csv\")\n",
    "test = pd.read_csv(\"mertest.csv\")\n",
    "\n",
    "# process columns, apply LabelEncoder to categorical features\n",
    "for c in train.columns:\n",
    "    if train[c].dtype == 'object':\n",
    "        lbl = LabelEncoder() \n",
    "        lbl.fit(list(train[c].values) + list(test[c].values)) \n",
    "        train[c] = lbl.transform(list(train[c].values))\n",
    "        test[c] = lbl.transform(list(test[c].values))\n",
    "\n",
    "# shape        \n",
    "print('Shape train: {}\\nShape test: {}'.format(train.shape, test.shape))"
   ]
  },
  {
   "cell_type": "code",
   "execution_count": 27,
   "metadata": {
    "collapsed": true
   },
   "outputs": [],
   "source": [
    "n_comp = 10\n",
    "\n",
    "# tSVD\n",
    "#tsvd = TruncatedSVD(n_components=n_comp, random_state=420)\n",
    "#tsvd_results_train = tsvd.fit_transform(train.drop([\"y\"], axis=1))\n",
    "#tsvd_results_test = tsvd.transform(test)\n",
    "\n",
    "# PCA\n",
    "#pca = PCA(n_components=n_comp, random_state=420)\n",
    "#pca2_results_train = pca.fit_transform(train.drop([\"y\"], axis=1))\n",
    "#pca2_results_test = pca.transform(test)\n",
    "\n",
    "# ICA\n",
    "#ica = FastICA(n_components=n_comp, random_state=420)\n",
    "#ica2_results_train = ica.fit_transform(train.drop([\"y\"], axis=1))\n",
    "#ica2_results_test = ica.transform(test)\n",
    "\n",
    "# GRP\n",
    "#grp = GaussianRandomProjection(n_components=n_comp, eps=0.1, random_state=420)\n",
    "#grp_results_train = grp.fit_transform(train.drop([\"y\"], axis=1))\n",
    "#grp_results_test = grp.transform(test)\n",
    "\n",
    "# SRP\n",
    "#srp = SparseRandomProjection(n_components=n_comp, dense_output=True, random_state=420)\n",
    "#srp_results_train = srp.fit_transform(train.drop([\"y\"], axis=1))\n",
    "#srp_results_test = srp.transform(test)"
   ]
  },
  {
   "cell_type": "code",
   "execution_count": 28,
   "metadata": {
    "collapsed": true
   },
   "outputs": [],
   "source": [
    "#usable_columns = list(set(train.columns) - set(['y']))\n",
    "\n",
    "# Append decomposition components to datasets\n",
    "#for i in range(1, n_comp + 1):\n",
    "    #train['pca_' + str(i)] = pca2_results_train[:, i - 1]\n",
    "    #test['pca_' + str(i)] = pca2_results_test[:, i - 1]\n",
    "\n",
    "    #train['ica_' + str(i)] = ica2_results_train[:, i - 1]\n",
    "    #test['ica_' + str(i)] = ica2_results_test[:, i - 1]\n",
    "\n",
    "   # train['tsvd_' + str(i)] = tsvd_results_train[:, i - 1]\n",
    "    #test['tsvd_' + str(i)] = tsvd_results_test[:, i - 1]\n",
    "\n",
    "    #train['grp_' + str(i)] = grp_results_train[:, i - 1]\n",
    "    #test['grp_' + str(i)] = grp_results_test[:, i - 1]\n",
    "\n",
    "    #train['srp_' + str(i)] = srp_results_train[:, i - 1]\n",
    "    #test['srp_' + str(i)] = srp_results_test[:, i - 1]"
   ]
  },
  {
   "cell_type": "code",
   "execution_count": 40,
   "metadata": {
    "collapsed": true
   },
   "outputs": [],
   "source": [
    "y = train['y'].values\n",
    "y_mean = np.mean(y)\n",
    "id_test = test['ID'].values\n",
    "X = train.drop(['y','ID'], axis=1).values\n",
    "X_test= test.drop(['ID'], axis=1).values"
   ]
  },
  {
   "cell_type": "code",
   "execution_count": 42,
   "metadata": {},
   "outputs": [
    {
     "data": {
      "text/plain": [
       "5"
      ]
     },
     "execution_count": 42,
     "metadata": {},
     "output_type": "execute_result"
    }
   ],
   "source": [
    "from sklearn.model_selection import KFold\n",
    "kf=KFold(n_splits=5, shuffle=True, random_state=0)\n",
    "kf.get_n_splits(X)"
   ]
  },
  {
   "cell_type": "code",
   "execution_count": 43,
   "metadata": {
    "collapsed": true
   },
   "outputs": [],
   "source": [
    "for train_index, test_index in kf.split(X):\n",
    "    X_train, y_train=X[train_index], y[train_index]\n",
    "    X_valid, y_valid=X[test_index], y[test_index]"
   ]
  },
  {
   "cell_type": "code",
   "execution_count": 44,
   "metadata": {},
   "outputs": [
    {
     "data": {
      "text/plain": [
       "RandomForestRegressor(bootstrap=True, criterion='mse', max_depth=5,\n",
       "           max_features='auto', max_leaf_nodes=None,\n",
       "           min_impurity_split=1e-07, min_samples_leaf=1,\n",
       "           min_samples_split=2, min_weight_fraction_leaf=0.0,\n",
       "           n_estimators=100, n_jobs=1, oob_score=False, random_state=0,\n",
       "           verbose=0, warm_start=False)"
      ]
     },
     "execution_count": 44,
     "metadata": {},
     "output_type": "execute_result"
    }
   ],
   "source": [
    "forest= RandomForestRegressor(n_estimators=100, random_state=0, max_depth=5)\n",
    "forest.fit(X_train, y_train)"
   ]
  },
  {
   "cell_type": "code",
   "execution_count": 45,
   "metadata": {},
   "outputs": [
    {
     "name": "stdout",
     "output_type": "stream",
     "text": [
      "R^2 valid:  0.5911715362591088\n",
      "R^2 train:  0.6025906693231765\n"
     ]
    }
   ],
   "source": [
    "from sklearn.metrics import r2_score\n",
    "print(\"R^2 valid: {: }\".format(r2_score(y_valid, forest.predict(X_valid))))\n",
    "print(\"R^2 train: {: }\".format(r2_score(y_train, forest.predict(X_train))))"
   ]
  },
  {
   "cell_type": "code",
   "execution_count": 34,
   "metadata": {
    "collapsed": true
   },
   "outputs": [],
   "source": [
    "y_pred=forest.predict(X_test)"
   ]
  },
  {
   "cell_type": "code",
   "execution_count": 35,
   "metadata": {
    "collapsed": true
   },
   "outputs": [],
   "source": [
    "sub=pd.DataFrame()"
   ]
  },
  {
   "cell_type": "code",
   "execution_count": 36,
   "metadata": {
    "collapsed": true
   },
   "outputs": [],
   "source": [
    "sub['ID']=id_test\n",
    "sub[\"y\"]=y_pred"
   ]
  },
  {
   "cell_type": "code",
   "execution_count": 37,
   "metadata": {
    "collapsed": true
   },
   "outputs": [],
   "source": [
    "sub.to_csv(\"stackforest_pca+ica10.csv\", index=False)"
   ]
  },
  {
   "cell_type": "code",
   "execution_count": null,
   "metadata": {
    "collapsed": true
   },
   "outputs": [],
   "source": []
  }
 ],
 "metadata": {
  "kernelspec": {
   "display_name": "Python 3",
   "language": "python",
   "name": "python3"
  },
  "language_info": {
   "codemirror_mode": {
    "name": "ipython",
    "version": 3
   },
   "file_extension": ".py",
   "mimetype": "text/x-python",
   "name": "python",
   "nbconvert_exporter": "python",
   "pygments_lexer": "ipython3",
   "version": "3.6.3"
  }
 },
 "nbformat": 4,
 "nbformat_minor": 2
}
